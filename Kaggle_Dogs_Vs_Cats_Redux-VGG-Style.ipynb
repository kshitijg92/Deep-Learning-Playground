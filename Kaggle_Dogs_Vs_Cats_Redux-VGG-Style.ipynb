{
 "cells": [
  {
   "cell_type": "markdown",
   "metadata": {},
   "source": [
    "# Dogs vs Cats Redux - Kaggle Pre Built VGG()\n",
    "\n",
    "In this notebook, we will explore how we can use a pre-trained VGG network to classify images as either dogs or cats. We will then submit our predictions to this kaggle competition:\n",
    "\n",
    "https://www.kaggle.com/c/dogs-vs-cats-redux-kernels-edition/data\n",
    "\n",
    "In this notebook, I am trying the following models : \n",
    "    - Prebuilt VGG With Fully Connected Layers On Top\n",
    "    - Prebuilt VGG Without Dropout and With BatchNormalization\n",
    "    - Prebuilt VGG With Low Dropout and BatchNormalization\n",
    "    - Ensemble of Prebuilt VGG With Low Dropout and BatchNormalization\n",
    "    - Prebuilt VGG with Fully Connected Convolution Layers - No Dense Layers"
   ]
  },
  {
   "cell_type": "markdown",
   "metadata": {
    "heading_collapsed": true
   },
   "source": [
    "## Imports"
   ]
  },
  {
   "cell_type": "code",
   "execution_count": 1,
   "metadata": {
    "hidden": true
   },
   "outputs": [],
   "source": [
    "from importlib import reload\n",
    "from PIL import Image\n",
    "#from IPyth import "
   ]
  },
  {
   "cell_type": "code",
   "execution_count": 2,
   "metadata": {
    "hidden": true
   },
   "outputs": [
    {
     "name": "stderr",
     "output_type": "stream",
     "text": [
      "Using TensorFlow backend.\n"
     ]
    }
   ],
   "source": [
    "from keras.applications.vgg16 import VGG16\n",
    "from keras.preprocessing import image\n",
    "from keras.applications.vgg16 import preprocess_input\n",
    "import numpy as np\n",
    "\n",
    "from keras.models import Model\n",
    "from keras.layers import Flatten, Dense, Dropout, Input, Convolution2D, MaxPooling2D, GlobalAveragePooling2D, Activation\n",
    "from keras.optimizers import Adam, RMSprop\n",
    "from keras.layers.normalization import BatchNormalization\n",
    "from keras.utils import to_categorical\n",
    "from keras.callbacks import ModelCheckpoint\n",
    "\n",
    "from importlib import reload\n",
    "from keras import backend as K\n",
    "\n",
    "np.random.seed(7)"
   ]
  },
  {
   "cell_type": "code",
   "execution_count": 3,
   "metadata": {
    "hidden": true
   },
   "outputs": [],
   "source": [
    "from __future__ import division,print_function\n",
    "\n",
    "import bcolz\n",
    "from IPython.display import FileLink\n",
    "import os, json\n",
    "from glob import glob\n",
    "import numpy as np\n",
    "np.set_printoptions(precision=4, linewidth=100)\n",
    "from matplotlib import pyplot as plt"
   ]
  },
  {
   "cell_type": "markdown",
   "metadata": {
    "heading_collapsed": true
   },
   "source": [
    "## Directory structure of the data\n",
    "\n",
    "In Keras, for image recognition/classification, we need to arrange the data in a certain structure (i.e, if we suethe flow_from_directory method of ImageDataGenerator). Images from each category for training must be placed in a separate folder. \n",
    "\n",
    "Here, we have two separate folders 'cats' and 'dogs' each of which contains training examples belonging to that class. We do the same for validation set. \n",
    "\n",
    "Since the test set examples are unlabeled (as we are to predict them), we put all those examples into an 'unknown' folder.\n",
    "\n",
    "NOTE : This fixed directory structure was created from the command line and this code for it is not present in this notebook. Code for directory structure creation will be added to future notebooks"
   ]
  },
  {
   "cell_type": "code",
   "execution_count": 4,
   "metadata": {
    "hidden": true
   },
   "outputs": [],
   "source": [
    "PATH = 'data/dogscatsredux/'\n",
    "MODEL_PATH = PATH + 'models/'\n",
    "TRAIN_PATH = PATH + 'train/'\n",
    "VALID_PATH = PATH + 'valid/'\n",
    "TEST_PATH = PATH + 'test/'\n",
    "RESULT_PATH = PATH + 'results/'"
   ]
  },
  {
   "cell_type": "code",
   "execution_count": 5,
   "metadata": {
    "hidden": true
   },
   "outputs": [
    {
     "name": "stdout",
     "output_type": "stream",
     "text": [
      "\u001b[0m\u001b[01;34mmodels\u001b[0m/  \u001b[01;34mresults\u001b[0m/  \u001b[01;34msample\u001b[0m/  sample_submission.csv  \u001b[01;34mtest\u001b[0m/  \u001b[01;34mtrain\u001b[0m/  \u001b[01;34mvalid\u001b[0m/\r\n"
     ]
    }
   ],
   "source": [
    "% ls 'data/dogscatsredux/'"
   ]
  },
  {
   "cell_type": "code",
   "execution_count": 6,
   "metadata": {
    "hidden": true
   },
   "outputs": [
    {
     "name": "stdout",
     "output_type": "stream",
     "text": [
      "\u001b[0m\u001b[01;34munknown\u001b[0m/\r\n"
     ]
    }
   ],
   "source": [
    "% ls 'data/dogscatsredux/test'"
   ]
  },
  {
   "cell_type": "code",
   "execution_count": 7,
   "metadata": {
    "hidden": true
   },
   "outputs": [
    {
     "name": "stdout",
     "output_type": "stream",
     "text": [
      "\u001b[0m\u001b[01;34mcats\u001b[0m/  \u001b[01;34mdogs\u001b[0m/\r\n"
     ]
    }
   ],
   "source": [
    "% ls 'data/dogscatsredux/train'"
   ]
  },
  {
   "cell_type": "code",
   "execution_count": 8,
   "metadata": {
    "hidden": true
   },
   "outputs": [
    {
     "name": "stdout",
     "output_type": "stream",
     "text": [
      "\u001b[0m\u001b[01;34mcats\u001b[0m/  \u001b[01;34mdogs\u001b[0m/\r\n"
     ]
    }
   ],
   "source": [
    "% ls 'data/dogscatsredux/valid'"
   ]
  },
  {
   "cell_type": "markdown",
   "metadata": {
    "hidden": true
   },
   "source": [
    "Let us now see a few of these images"
   ]
  },
  {
   "cell_type": "code",
   "execution_count": 9,
   "metadata": {
    "hidden": true
   },
   "outputs": [
    {
     "name": "stdout",
     "output_type": "stream",
     "text": [
      "\u001b[0m\u001b[01;35mcat.8760.jpg\u001b[0m\r\n",
      "\u001b[01;35mcat.710.jpg\u001b[0m\r\n",
      "\u001b[01;35mcat.1069.jpg\u001b[0m\r\n",
      "\u001b[01;35mcat.11298.jpg\u001b[0m\r\n",
      "ls: write error\r\n"
     ]
    }
   ],
   "source": [
    "%ls -U 'data/dogscatsredux/train/cats' | head -4"
   ]
  },
  {
   "cell_type": "code",
   "execution_count": 10,
   "metadata": {
    "hidden": true
   },
   "outputs": [
    {
     "data": {
      "image/png": "[encoded data removed]",
      "text/plain": [
       "<PIL.JpegImagePlugin.JpegImageFile image mode=RGB size=393x315 at 0x7F8025B61A90>"
      ]
     },
     "execution_count": 10,
     "metadata": {},
     "output_type": "execute_result"
    }
   ],
   "source": [
    "ex_path = TRAIN_PATH+'cats/'\n",
    "Image.open(ex_path + 'cat.8760.jpg')"
   ]
  },
  {
   "cell_type": "markdown",
   "metadata": {
    "hidden": true
   },
   "source": [
    "As we can see, the directory structure is in the format needed by keras"
   ]
  },
  {
   "cell_type": "markdown",
   "metadata": {
    "heading_collapsed": true
   },
   "source": [
    "## Load VGG Model"
   ]
  },
  {
   "cell_type": "markdown",
   "metadata": {
    "hidden": true
   },
   "source": [
    "In the cell below, I am forcing Keras to use the 'channels_last' image data format since my backend is tensorflow. This would be set to 'channels_first' for Theano backend"
   ]
  },
  {
   "cell_type": "code",
   "execution_count": 11,
   "metadata": {
    "hidden": true
   },
   "outputs": [],
   "source": [
    "K.set_image_data_format(\"channels_last\")"
   ]
  },
  {
   "cell_type": "code",
   "execution_count": 12,
   "metadata": {
    "hidden": true
   },
   "outputs": [],
   "source": [
    "img_height, img_weidth = 224,224"
   ]
  },
  {
   "cell_type": "markdown",
   "metadata": {
    "hidden": true
   },
   "source": [
    "One of the cool things about Keras is that it has deep learning models that are made available alongside pre-trained weights. These models are the ones which have won ImageNet over the years.\n",
    "\n",
    "Another convivient option given by these Keras application APIs' is whether to include the fully connected dense layersm present at the top of the model, or not. \n",
    "\n",
    "We are not including those layers since we want to finetune our model to the Dogs vs Cats task.\n",
    "\n",
    "Reference : https://keras.io/applications/"
   ]
  },
  {
   "cell_type": "code",
   "execution_count": 13,
   "metadata": {
    "hidden": true
   },
   "outputs": [],
   "source": [
    "base_model = VGG16(weights = 'imagenet', include_top = False, input_shape=(img_height,img_weidth,3))\n"
   ]
  },
  {
   "cell_type": "code",
   "execution_count": 14,
   "metadata": {
    "hidden": true
   },
   "outputs": [
    {
     "name": "stdout",
     "output_type": "stream",
     "text": [
      "_________________________________________________________________\n",
      "Layer (type)                 Output Shape              Param #   \n",
      "=================================================================\n",
      "input_1 (InputLayer)         (None, 224, 224, 3)       0         \n",
      "_________________________________________________________________\n",
      "block1_conv1 (Conv2D)        (None, 224, 224, 64)      1792      \n",
      "_________________________________________________________________\n",
      "block1_conv2 (Conv2D)        (None, 224, 224, 64)      36928     \n",
      "_________________________________________________________________\n",
      "block1_pool (MaxPooling2D)   (None, 112, 112, 64)      0         \n",
      "_________________________________________________________________\n",
      "block2_conv1 (Conv2D)        (None, 112, 112, 128)     73856     \n",
      "_________________________________________________________________\n",
      "block2_conv2 (Conv2D)        (None, 112, 112, 128)     147584    \n",
      "_________________________________________________________________\n",
      "block2_pool (MaxPooling2D)   (None, 56, 56, 128)       0         \n",
      "_________________________________________________________________\n",
      "block3_conv1 (Conv2D)        (None, 56, 56, 256)       295168    \n",
      "_________________________________________________________________\n",
      "block3_conv2 (Conv2D)        (None, 56, 56, 256)       590080    \n",
      "_________________________________________________________________\n",
      "block3_conv3 (Conv2D)        (None, 56, 56, 256)       590080    \n",
      "_________________________________________________________________\n",
      "block3_pool (MaxPooling2D)   (None, 28, 28, 256)       0         \n",
      "_________________________________________________________________\n",
      "block4_conv1 (Conv2D)        (None, 28, 28, 512)       1180160   \n",
      "_________________________________________________________________\n",
      "block4_conv2 (Conv2D)        (None, 28, 28, 512)       2359808   \n",
      "_________________________________________________________________\n",
      "block4_conv3 (Conv2D)        (None, 28, 28, 512)       2359808   \n",
      "_________________________________________________________________\n",
      "block4_pool (MaxPooling2D)   (None, 14, 14, 512)       0         \n",
      "_________________________________________________________________\n",
      "block5_conv1 (Conv2D)        (None, 14, 14, 512)       2359808   \n",
      "_________________________________________________________________\n",
      "block5_conv2 (Conv2D)        (None, 14, 14, 512)       2359808   \n",
      "_________________________________________________________________\n",
      "block5_conv3 (Conv2D)        (None, 14, 14, 512)       2359808   \n",
      "_________________________________________________________________\n",
      "block5_pool (MaxPooling2D)   (None, 7, 7, 512)         0         \n",
      "=================================================================\n",
      "Total params: 14,714,688\n",
      "Trainable params: 14,714,688\n",
      "Non-trainable params: 0\n",
      "_________________________________________________________________\n"
     ]
    }
   ],
   "source": [
    "base_model.summary()"
   ]
  },
  {
   "cell_type": "markdown",
   "metadata": {
    "heading_collapsed": true
   },
   "source": [
    "## Save output of base model"
   ]
  },
  {
   "cell_type": "markdown",
   "metadata": {
    "hidden": true
   },
   "source": [
    "We have imported the vgg16 model's preprocess_input method. This we are passing as an argument to the ImageDataGenerator since we want the input to be pre-processed VGG16 style."
   ]
  },
  {
   "cell_type": "code",
   "execution_count": 15,
   "metadata": {
    "hidden": true
   },
   "outputs": [],
   "source": [
    "gen = image.ImageDataGenerator(preprocessing_function=preprocess_input)\n",
    "batch_size = 64"
   ]
  },
  {
   "cell_type": "markdown",
   "metadata": {
    "hidden": true
   },
   "source": [
    "**IMPORTANT NOTE**\n",
    "\n",
    "In this case, shuffle *needs* to be False since we want to extract the labels in the order that they are predicted"
   ]
  },
  {
   "cell_type": "code",
   "execution_count": 16,
   "metadata": {
    "hidden": true
   },
   "outputs": [
    {
     "name": "stdout",
     "output_type": "stream",
     "text": [
      "Found 20000 images belonging to 2 classes.\n"
     ]
    }
   ],
   "source": [
    "train_batches = gen.flow_from_directory(directory=TRAIN_PATH,target_size=(img_weidth,img_height),\\\n",
    "                                        class_mode='categorical',batch_size=batch_size,\\\n",
    "                                        shuffle=False)"
   ]
  },
  {
   "cell_type": "code",
   "execution_count": 17,
   "metadata": {
    "hidden": true
   },
   "outputs": [
    {
     "name": "stdout",
     "output_type": "stream",
     "text": [
      "Found 5000 images belonging to 2 classes.\n"
     ]
    }
   ],
   "source": [
    "valid_batches = gen.flow_from_directory(directory=VALID_PATH,target_size=(img_weidth,img_height),\\\n",
    "                                        class_mode='categorical',batch_size=batch_size,\\\n",
    "                                        shuffle=False)"
   ]
  },
  {
   "cell_type": "code",
   "execution_count": 18,
   "metadata": {
    "hidden": true
   },
   "outputs": [
    {
     "name": "stdout",
     "output_type": "stream",
     "text": [
      "Found 12500 images belonging to 1 classes.\n"
     ]
    }
   ],
   "source": [
    "test_batches = gen.flow_from_directory(directory=TEST_PATH,target_size=(img_weidth,img_height),\\\n",
    "                                        class_mode='categorical',batch_size=batch_size,\\\n",
    "                                        shuffle=False)"
   ]
  },
  {
   "cell_type": "code",
   "execution_count": 19,
   "metadata": {
    "hidden": true
   },
   "outputs": [],
   "source": [
    "valid_classes = valid_batches.classes\n",
    "train_classes = train_batches.classes\n",
    "\n",
    "#We need to convert the labels into one-hot-encoded form since the loss function is 'categorical_crossentropy'\n",
    "valid_labels = to_categorical(valid_classes)\n",
    "train_labels = to_categorical(train_classes)"
   ]
  },
  {
   "cell_type": "markdown",
   "metadata": {
    "hidden": true
   },
   "source": [
    "**IMPORANT NOTE** : **Saving output of base model**\n",
    "\n",
    "We're going to be training a number of iterations for a bunch of differerent fully connected layers. \n",
    "\n",
    "So it would be best for us to pre-calculate the output of our base model (and thus all its convolution layers) which will then be fed as input to the fully connected layers (which we will be adding later on top of our base model). \n",
    "\n",
    "This will help us save time since our computation would have to go through the base model only once. (This computation would be the same for every different model we add on top of our base model.) Hence it makes sense to store the output of the base model.\n",
    "\n",
    "The other alternative to this was to just add our fully connected layer model on top of the base model itself. Then set the base model layers to not be trainable and just train the newly added dense layers. However this would be computationally inefficient since our calculations would go again and again through the base model layers too."
   ]
  },
  {
   "cell_type": "code",
   "execution_count": 21,
   "metadata": {
    "hidden": true
   },
   "outputs": [],
   "source": [
    "train_steps = int(np.ceil(train_batches.n/batch_size))\n",
    "validation_steps = int(np.ceil(valid_batches.n/batch_size))\n",
    "test_steps = int(np.ceil(test_batches.n/batch_size))"
   ]
  },
  {
   "cell_type": "code",
   "execution_count": 29,
   "metadata": {
    "hidden": true
   },
   "outputs": [
    {
     "name": "stdout",
     "output_type": "stream",
     "text": [
      "79/79 [==============================] - 60s 760ms/step\n"
     ]
    }
   ],
   "source": [
    "valid_features_to_dense = base_model.predict_generator(valid_batches, validation_steps, verbose=1)"
   ]
  },
  {
   "cell_type": "code",
   "execution_count": 30,
   "metadata": {
    "hidden": true
   },
   "outputs": [
    {
     "name": "stdout",
     "output_type": "stream",
     "text": [
      "313/313 [==============================] - 212s 679ms/step\n"
     ]
    }
   ],
   "source": [
    "train_features_to_dense = base_model.predict_generator(train_batches, train_steps, verbose=1)"
   ]
  },
  {
   "cell_type": "code",
   "execution_count": 46,
   "metadata": {
    "hidden": true
   },
   "outputs": [
    {
     "name": "stdout",
     "output_type": "stream",
     "text": [
      "196/196 [==============================] - 152s 777ms/step\n"
     ]
    }
   ],
   "source": [
    "test_features_to_dense = base_model.predict_generator(test_batches, test_steps, verbose=1)"
   ]
  },
  {
   "cell_type": "markdown",
   "metadata": {
    "hidden": true
   },
   "source": [
    "We can save these arrays to a file so that we can simply load them up the next time we run the notebook and save time."
   ]
  },
  {
   "cell_type": "code",
   "execution_count": 24,
   "metadata": {
    "hidden": true
   },
   "outputs": [],
   "source": [
    "def save_array(fname, arr):\n",
    "    c=bcolz.carray(arr, rootdir=fname, mode='w')\n",
    "    c.flush()\n",
    "\n",
    "\n",
    "def load_array(fname):\n",
    "    return bcolz.open(fname)[:]"
   ]
  },
  {
   "cell_type": "code",
   "execution_count": 32,
   "metadata": {
    "hidden": true
   },
   "outputs": [],
   "source": [
    "save_array(MODEL_PATH + 'train_vgg_maxpool_layer_features.bc', train_features_to_dense)\n",
    "save_array(MODEL_PATH + 'train_vgg_maxpool_layer_labels.bc', train_labels)\n",
    "\n",
    "save_array(MODEL_PATH + 'valid_vgg_maxpool_layer_features.bc', valid_features_to_dense)\n",
    "save_array(MODEL_PATH + 'valid_vgg_maxpool_layer_labels.bc', valid_labels)"
   ]
  },
  {
   "cell_type": "code",
   "execution_count": 47,
   "metadata": {
    "hidden": true
   },
   "outputs": [],
   "source": [
    "save_array(MODEL_PATH + 'test_vgg_maxpool_layer_features.bc', test_features_to_dense)"
   ]
  },
  {
   "cell_type": "code",
   "execution_count": 25,
   "metadata": {
    "hidden": true
   },
   "outputs": [],
   "source": [
    "train_features_to_dense = load_array(MODEL_PATH+'train_vgg_maxpool_layer_features.bc')\n",
    "train_labels = load_array(MODEL_PATH+'train_vgg_maxpool_layer_labels.bc')\n",
    "\n",
    "valid_features_to_dense = load_array(MODEL_PATH+'valid_vgg_maxpool_layer_features.bc')\n",
    "valid_labels = load_array(MODEL_PATH+'valid_vgg_maxpool_layer_labels.bc')"
   ]
  },
  {
   "cell_type": "code",
   "execution_count": 26,
   "metadata": {
    "hidden": true
   },
   "outputs": [],
   "source": [
    "test_features_to_dense = load_array(MODEL_PATH + 'test_vgg_maxpool_layer_features.bc')"
   ]
  },
  {
   "cell_type": "markdown",
   "metadata": {
    "heading_collapsed": true
   },
   "source": [
    "## Add fully connected layer to top of base model"
   ]
  },
  {
   "cell_type": "markdown",
   "metadata": {
    "hidden": true
   },
   "source": [
    "Now that we have the output of our base model, we can add the fully connected layer model on top of that.\n",
    "\n",
    "The model we are adding below is exactly same as VGG16 except for the fact that the last dense layer has 2 outputs instead of 1000 as was the case with VGG16"
   ]
  },
  {
   "cell_type": "code",
   "execution_count": 22,
   "metadata": {
    "hidden": true
   },
   "outputs": [
    {
     "name": "stdout",
     "output_type": "stream",
     "text": [
      "_________________________________________________________________\n",
      "Layer (type)                 Output Shape              Param #   \n",
      "=================================================================\n",
      "input_2 (InputLayer)         (None, 7, 7, 512)         0         \n",
      "_________________________________________________________________\n",
      "flatten_1 (Flatten)          (None, 25088)             0         \n",
      "_________________________________________________________________\n",
      "dense_1 (Dense)              (None, 4096)              102764544 \n",
      "_________________________________________________________________\n",
      "dropout_1 (Dropout)          (None, 4096)              0         \n",
      "_________________________________________________________________\n",
      "dense_2 (Dense)              (None, 4096)              16781312  \n",
      "_________________________________________________________________\n",
      "dropout_2 (Dropout)          (None, 4096)              0         \n",
      "_________________________________________________________________\n",
      "dense_3 (Dense)              (None, 2)                 8194      \n",
      "=================================================================\n",
      "Total params: 119,554,050\n",
      "Trainable params: 119,554,050\n",
      "Non-trainable params: 0\n",
      "_________________________________________________________________\n"
     ]
    }
   ],
   "source": [
    "inp = Input(shape=base_model.output_shape[1:])\n",
    "x = Flatten()(inp)\n",
    "x = Dense(4096, activation='relu')(x)\n",
    "x = Dropout(0.5)(x)\n",
    "x = Dense(4096, activation='relu')(x)\n",
    "x = Dropout(0.5)(x)\n",
    "predictions = Dense(2, activation = 'softmax')(x)\n",
    "\n",
    "new_model = Model(inp, predictions)\n",
    "new_model.compile(optimizer=RMSprop(), loss = 'categorical_crossentropy', metrics=['accuracy'])\n",
    "new_model.summary()"
   ]
  },
  {
   "cell_type": "code",
   "execution_count": 23,
   "metadata": {
    "hidden": true
   },
   "outputs": [
    {
     "name": "stdout",
     "output_type": "stream",
     "text": [
      "Train on 20000 samples, validate on 5000 samples\n",
      "Epoch 1/4\n",
      "20000/20000 [==============================] - 15s 764us/step - loss: 3.9539 - acc: 0.6696 - val_loss: 0.4753 - val_acc: 0.9272\n",
      "Epoch 2/4\n",
      "20000/20000 [==============================] - 14s 686us/step - loss: 2.1266 - acc: 0.8112 - val_loss: 0.3032 - val_acc: 0.9582\n",
      "Epoch 3/4\n",
      "20000/20000 [==============================] - 14s 684us/step - loss: 1.4342 - acc: 0.8707 - val_loss: 0.2471 - val_acc: 0.9686\n",
      "Epoch 4/4\n",
      "20000/20000 [==============================] - 14s 683us/step - loss: 1.1281 - acc: 0.8968 - val_loss: 0.2183 - val_acc: 0.9732\n"
     ]
    },
    {
     "data": {
      "text/plain": [
       "<keras.callbacks.History at 0x7efcd80c5208>"
      ]
     },
     "execution_count": 23,
     "metadata": {},
     "output_type": "execute_result"
    }
   ],
   "source": [
    "new_model.optimizer.lr = 1e-6\n",
    "new_model.fit(train_features_to_dense, train_labels, epochs=4, \n",
    "             batch_size=batch_size*4, validation_data=(valid_features_to_dense, valid_labels))"
   ]
  },
  {
   "cell_type": "markdown",
   "metadata": {
    "hidden": true
   },
   "source": [
    "Running for a few more epochs ..."
   ]
  },
  {
   "cell_type": "code",
   "execution_count": 24,
   "metadata": {
    "hidden": true
   },
   "outputs": [
    {
     "name": "stdout",
     "output_type": "stream",
     "text": [
      "Train on 20000 samples, validate on 5000 samples\n",
      "Epoch 1/4\n",
      "20000/20000 [==============================] - 14s 687us/step - loss: 0.8992 - acc: 0.9181 - val_loss: 0.2065 - val_acc: 0.9756\n",
      "Epoch 2/4\n",
      "20000/20000 [==============================] - 14s 683us/step - loss: 0.7840 - acc: 0.9269 - val_loss: 0.1922 - val_acc: 0.9764\n",
      "Epoch 3/4\n",
      "20000/20000 [==============================] - 14s 682us/step - loss: 0.7355 - acc: 0.9319 - val_loss: 0.1850 - val_acc: 0.9778\n",
      "Epoch 4/4\n",
      "20000/20000 [==============================] - 14s 683us/step - loss: 0.6577 - acc: 0.9398 - val_loss: 0.1736 - val_acc: 0.9790\n"
     ]
    },
    {
     "data": {
      "text/plain": [
       "<keras.callbacks.History at 0x7efcd83cce48>"
      ]
     },
     "execution_count": 24,
     "metadata": {},
     "output_type": "execute_result"
    }
   ],
   "source": [
    "new_model.optimizer.lr = 1e-6\n",
    "new_model.fit(train_features_to_dense, train_labels, epochs=4, \n",
    "             batch_size=batch_size*4, validation_data=(valid_features_to_dense, valid_labels))"
   ]
  },
  {
   "cell_type": "markdown",
   "metadata": {
    "hidden": true
   },
   "source": [
    "A few more epochs ..."
   ]
  },
  {
   "cell_type": "code",
   "execution_count": 25,
   "metadata": {
    "hidden": true,
    "scrolled": true
   },
   "outputs": [
    {
     "name": "stdout",
     "output_type": "stream",
     "text": [
      "Train on 20000 samples, validate on 5000 samples\n",
      "Epoch 1/4\n",
      "20000/20000 [==============================] - 10s 504us/step - loss: 0.5791 - acc: 0.9471 - val_loss: 0.1689 - val_acc: 0.9796\n",
      "Epoch 2/4\n",
      "20000/20000 [==============================] - 10s 500us/step - loss: 0.5798 - acc: 0.9453 - val_loss: 0.1643 - val_acc: 0.9800\n",
      "Epoch 3/4\n",
      "20000/20000 [==============================] - 10s 501us/step - loss: 0.5285 - acc: 0.9511 - val_loss: 0.1608 - val_acc: 0.9810\n",
      "Epoch 4/4\n",
      "20000/20000 [==============================] - 10s 501us/step - loss: 0.5093 - acc: 0.9533 - val_loss: 0.1600 - val_acc: 0.9808\n"
     ]
    },
    {
     "data": {
      "text/plain": [
       "<keras.callbacks.History at 0x7efd65c220f0>"
      ]
     },
     "execution_count": 25,
     "metadata": {},
     "output_type": "execute_result"
    }
   ],
   "source": [
    "new_model.optimizer.lr = 1e-6\n",
    "new_model.fit(train_features_to_dense, train_labels, epochs=4, \n",
    "             batch_size=batch_size*8, validation_data=(valid_features_to_dense, valid_labels))"
   ]
  },
  {
   "cell_type": "markdown",
   "metadata": {
    "heading_collapsed": true
   },
   "source": [
    "## VGG like model without Dropout and with Batch Normalization"
   ]
  },
  {
   "cell_type": "markdown",
   "metadata": {
    "hidden": true
   },
   "source": [
    "As we can see, our train accuracy is low compared to the validation accuracy. This means we are underfitting the data. This might be the case since we have dropouts of 0.5 after each dense layer. Now that would have worked for VGG16 since they had 1000 classes. But this value might be a bit higher for us since we just have 2 classes. \n",
    "\n",
    "Another important task we can do is to add BatchNormalization layers. BatchNormalization leads to faster convergence and prevents any particular activation from blowing out of scale. Why didnt VGG16 have it? Because it wasn't discovered by then :).\n"
   ]
  },
  {
   "cell_type": "code",
   "execution_count": 39,
   "metadata": {
    "hidden": true
   },
   "outputs": [
    {
     "name": "stdout",
     "output_type": "stream",
     "text": [
      "_________________________________________________________________\n",
      "Layer (type)                 Output Shape              Param #   \n",
      "=================================================================\n",
      "input_4 (InputLayer)         (None, 7, 7, 512)         0         \n",
      "_________________________________________________________________\n",
      "flatten_3 (Flatten)          (None, 25088)             0         \n",
      "_________________________________________________________________\n",
      "dense_7 (Dense)              (None, 4096)              102764544 \n",
      "_________________________________________________________________\n",
      "batch_normalization_1 (Batch (None, 4096)              16384     \n",
      "_________________________________________________________________\n",
      "dense_8 (Dense)              (None, 4096)              16781312  \n",
      "_________________________________________________________________\n",
      "batch_normalization_2 (Batch (None, 4096)              16384     \n",
      "_________________________________________________________________\n",
      "dense_9 (Dense)              (None, 2)                 8194      \n",
      "=================================================================\n",
      "Total params: 119,586,818\n",
      "Trainable params: 119,570,434\n",
      "Non-trainable params: 16,384\n",
      "_________________________________________________________________\n"
     ]
    }
   ],
   "source": [
    "inp = Input(shape=base_model.output_shape[1:])\n",
    "x = Flatten()(inp)\n",
    "x = Dense(4096, activation='relu')(x)\n",
    "x = BatchNormalization()(x)\n",
    "#x = Dropout(0.5)(x)\n",
    "x = Dense(4096, activation='relu')(x)\n",
    "x = BatchNormalization()(x)\n",
    "#x = Dropout(0.5)(x)\n",
    "predictions = Dense(2, activation = 'softmax')(x)\n",
    "\n",
    "vgg_like_wo_dr_w_bn = Model(inp, predictions)\n",
    "vgg_like_wo_dr_w_bn.compile(optimizer=RMSprop(), loss = 'categorical_crossentropy', metrics=['accuracy'])\n",
    "vgg_like_wo_dr_w_bn.summary()"
   ]
  },
  {
   "cell_type": "code",
   "execution_count": 40,
   "metadata": {
    "hidden": true
   },
   "outputs": [
    {
     "name": "stdout",
     "output_type": "stream",
     "text": [
      "Train on 20000 samples, validate on 5000 samples\n",
      "Epoch 1/4\n",
      "20000/20000 [==============================] - 11s 554us/step - loss: 0.3037 - acc: 0.9528 - val_loss: 0.3144 - val_acc: 0.9762\n",
      "Epoch 2/4\n",
      "20000/20000 [==============================] - 10s 508us/step - loss: 0.1042 - acc: 0.9806 - val_loss: 0.2106 - val_acc: 0.9818\n",
      "Epoch 3/4\n",
      "20000/20000 [==============================] - 10s 508us/step - loss: 0.0849 - acc: 0.9855 - val_loss: 0.3439 - val_acc: 0.9748\n",
      "Epoch 4/4\n",
      "20000/20000 [==============================] - 10s 507us/step - loss: 0.0572 - acc: 0.9900 - val_loss: 0.2030 - val_acc: 0.9828\n"
     ]
    },
    {
     "data": {
      "text/plain": [
       "<keras.callbacks.History at 0x7f8da66aac50>"
      ]
     },
     "execution_count": 40,
     "metadata": {},
     "output_type": "execute_result"
    }
   ],
   "source": [
    "vgg_like_wo_dr_w_bn.optimizer.lr = 1e-3\n",
    "vgg_like_wo_dr_w_bn.fit(train_features_to_dense, train_labels, epochs=4, \n",
    "             batch_size=batch_size*8, validation_data=(valid_features_to_dense, valid_labels))"
   ]
  },
  {
   "cell_type": "markdown",
   "metadata": {
    "hidden": true
   },
   "source": [
    "Running for a few more epochs ..."
   ]
  },
  {
   "cell_type": "code",
   "execution_count": 41,
   "metadata": {
    "hidden": true
   },
   "outputs": [],
   "source": [
    "checkpointer = ModelCheckpoint(filepath=MODEL_PATH+'VGG16_LIKE_WO_DR_W_BN' + 'WEIGHTS.{epoch:02d}-{val_loss:.2f}',\n",
    "               monitor = \"val_acc\", verbose=1, save_best_only=True, save_weights_only=False)"
   ]
  },
  {
   "cell_type": "code",
   "execution_count": 43,
   "metadata": {
    "hidden": true
   },
   "outputs": [
    {
     "name": "stdout",
     "output_type": "stream",
     "text": [
      "Train on 20000 samples, validate on 5000 samples\n",
      "Epoch 1/8\n",
      "20000/20000 [==============================] - 10s 515us/step - loss: 0.0189 - acc: 0.9968 - val_loss: 0.1305 - val_acc: 0.9848\n",
      "Epoch 2/8\n",
      "20000/20000 [==============================] - 10s 508us/step - loss: 0.0208 - acc: 0.9964 - val_loss: 0.1464 - val_acc: 0.9852\n",
      "Epoch 3/8\n",
      "20000/20000 [==============================] - 10s 509us/step - loss: 0.0119 - acc: 0.9981 - val_loss: 0.1354 - val_acc: 0.9848\n",
      "Epoch 4/8\n",
      "20000/20000 [==============================] - 10s 508us/step - loss: 0.0116 - acc: 0.9983 - val_loss: 0.1620 - val_acc: 0.9816\n",
      "Epoch 5/8\n",
      "20000/20000 [==============================] - 10s 507us/step - loss: 0.0187 - acc: 0.9972 - val_loss: 0.1588 - val_acc: 0.9828\n",
      "Epoch 6/8\n",
      "20000/20000 [==============================] - 10s 507us/step - loss: 0.0143 - acc: 0.9985 - val_loss: 0.1416 - val_acc: 0.9836\n",
      "Epoch 7/8\n",
      "20000/20000 [==============================] - 10s 506us/step - loss: 0.0092 - acc: 0.9990 - val_loss: 0.2330 - val_acc: 0.9798\n",
      "Epoch 8/8\n",
      "20000/20000 [==============================] - 10s 507us/step - loss: 0.0111 - acc: 0.9988 - val_loss: 0.1911 - val_acc: 0.9838\n"
     ]
    },
    {
     "data": {
      "text/plain": [
       "<keras.callbacks.History at 0x7f8da6655940>"
      ]
     },
     "execution_count": 43,
     "metadata": {},
     "output_type": "execute_result"
    }
   ],
   "source": [
    "#K.set_value(vgg_like_wo_dr_w_bn.optimizer.lr, 1e-6)\n",
    "vgg_like_wo_dr_w_bn.optimizer.lr = 1e-6\n",
    "vgg_like_wo_dr_w_bn.fit(train_features_to_dense, train_labels, epochs=8, \\\n",
    "             batch_size=batch_size*8, validation_data=(valid_features_to_dense, valid_labels))"
   ]
  },
  {
   "cell_type": "markdown",
   "metadata": {
    "hidden": true
   },
   "source": [
    "We see that now we have started overfitting. Our validation accuracy is not increasing with the train accuracy. So a little Dropout might still be needed."
   ]
  },
  {
   "cell_type": "markdown",
   "metadata": {
    "heading_collapsed": true
   },
   "source": [
    "## VGG like model with Low Dropout and Batch Normalization"
   ]
  },
  {
   "cell_type": "code",
   "execution_count": 23,
   "metadata": {
    "hidden": true
   },
   "outputs": [],
   "source": [
    "def get_vgg_with_low_dr_bn():\n",
    "    inp = Input(shape=base_model.output_shape[1:])\n",
    "    x = Flatten()(inp)\n",
    "    x = Dense(4096, activation='relu')(x)\n",
    "    x = BatchNormalization()(x)\n",
    "    x = Dropout(0.25)(x)\n",
    "\n",
    "    x = Dense(4096, activation='relu')(x)\n",
    "    x = BatchNormalization()(x)\n",
    "    x = Dropout(0.4)(x)\n",
    "\n",
    "    predictions = Dense(2, activation = 'softmax')(x)\n",
    "\n",
    "    vgg_like_w_low_dr_w_bn = Model(inp, predictions)\n",
    "    vgg_like_w_low_dr_w_bn.compile(optimizer=RMSprop(), loss = 'categorical_crossentropy', metrics=['accuracy'])\n",
    "    return vgg_like_w_low_dr_w_bn\n",
    "    #vgg_like_w_low_dr_w_bn.summary()"
   ]
  },
  {
   "cell_type": "code",
   "execution_count": 49,
   "metadata": {
    "hidden": true
   },
   "outputs": [
    {
     "name": "stdout",
     "output_type": "stream",
     "text": [
      "_________________________________________________________________\n",
      "Layer (type)                 Output Shape              Param #   \n",
      "=================================================================\n",
      "input_6 (InputLayer)         (None, 7, 7, 512)         0         \n",
      "_________________________________________________________________\n",
      "flatten_5 (Flatten)          (None, 25088)             0         \n",
      "_________________________________________________________________\n",
      "dense_13 (Dense)             (None, 4096)              102764544 \n",
      "_________________________________________________________________\n",
      "batch_normalization_5 (Batch (None, 4096)              16384     \n",
      "_________________________________________________________________\n",
      "dropout_7 (Dropout)          (None, 4096)              0         \n",
      "_________________________________________________________________\n",
      "dense_14 (Dense)             (None, 4096)              16781312  \n",
      "_________________________________________________________________\n",
      "batch_normalization_6 (Batch (None, 4096)              16384     \n",
      "_________________________________________________________________\n",
      "dropout_8 (Dropout)          (None, 4096)              0         \n",
      "_________________________________________________________________\n",
      "dense_15 (Dense)             (None, 2)                 8194      \n",
      "=================================================================\n",
      "Total params: 119,586,818\n",
      "Trainable params: 119,570,434\n",
      "Non-trainable params: 16,384\n",
      "_________________________________________________________________\n"
     ]
    }
   ],
   "source": [
    "vgg_like_w_low_dr_w_bn = get_vgg_with_low_dr_bn()\n",
    "vgg_like_w_low_dr_w_bn.summary()\n"
   ]
  },
  {
   "cell_type": "code",
   "execution_count": 50,
   "metadata": {
    "hidden": true
   },
   "outputs": [
    {
     "name": "stdout",
     "output_type": "stream",
     "text": [
      "Train on 20000 samples, validate on 5000 samples\n",
      "Epoch 1/4\n",
      "20000/20000 [==============================] - 11s 569us/step - loss: 0.1602 - acc: 0.9375 - val_loss: 0.0959 - val_acc: 0.9650\n",
      "Epoch 2/4\n",
      "20000/20000 [==============================] - 10s 517us/step - loss: 0.0493 - acc: 0.9815 - val_loss: 0.0463 - val_acc: 0.9824\n",
      "Epoch 3/4\n",
      "20000/20000 [==============================] - 10s 515us/step - loss: 0.0244 - acc: 0.9913 - val_loss: 0.0604 - val_acc: 0.9772\n",
      "Epoch 4/4\n",
      "20000/20000 [==============================] - 10s 515us/step - loss: 0.0138 - acc: 0.9957 - val_loss: 0.0490 - val_acc: 0.9822\n"
     ]
    },
    {
     "data": {
      "text/plain": [
       "<keras.callbacks.History at 0x7f8d615cf6a0>"
      ]
     },
     "execution_count": 50,
     "metadata": {},
     "output_type": "execute_result"
    }
   ],
   "source": [
    "vgg_like_w_low_dr_w_bn.optimizer.lr = 1e-5\n",
    "vgg_like_w_low_dr_w_bn.fit(train_features_to_dense, train_labels, epochs=4, \n",
    "             batch_size=batch_size*8, validation_data=(valid_features_to_dense, valid_labels))"
   ]
  },
  {
   "cell_type": "markdown",
   "metadata": {
    "heading_collapsed": true
   },
   "source": [
    "## Ensemble\n",
    "\n",
    "We are getting pretty good validation accuracies with the previous model (around 98.34%). What we can now do is create an ensemble. Ensembles are one of the most powerful tools to push your accuracies even further"
   ]
  },
  {
   "cell_type": "code",
   "execution_count": 25,
   "metadata": {
    "hidden": true
   },
   "outputs": [],
   "source": [
    "def fit_single_model():\n",
    "    vgg_like_w_low_dr_w_bn = get_vgg_with_low_dr_bn()\n",
    "    \n",
    "    vgg_like_w_low_dr_w_bn.optimizer.lr = 1e-5\n",
    "    vgg_like_w_low_dr_w_bn.fit(train_features_to_dense, train_labels, epochs=4, \n",
    "             batch_size=batch_size*4, validation_data=(valid_features_to_dense, valid_labels))\n",
    "    \n",
    "    return vgg_like_w_low_dr_w_bn\n"
   ]
  },
  {
   "cell_type": "code",
   "execution_count": 26,
   "metadata": {
    "hidden": true
   },
   "outputs": [
    {
     "name": "stdout",
     "output_type": "stream",
     "text": [
      "Train on 20000 samples, validate on 5000 samples\n",
      "Epoch 1/4\n",
      "20000/20000 [==============================] - 16s 801us/step - loss: 0.1447 - acc: 0.9426 - val_loss: 0.0458 - val_acc: 0.9816\n",
      "Epoch 2/4\n",
      "20000/20000 [==============================] - 15s 726us/step - loss: 0.0392 - acc: 0.9844 - val_loss: 0.0412 - val_acc: 0.9842\n",
      "Epoch 3/4\n",
      "20000/20000 [==============================] - 15s 732us/step - loss: 0.0161 - acc: 0.9940 - val_loss: 0.0489 - val_acc: 0.9824\n",
      "Epoch 4/4\n",
      "20000/20000 [==============================] - 15s 733us/step - loss: 0.0084 - acc: 0.9978 - val_loss: 0.0391 - val_acc: 0.9864\n",
      "Train on 20000 samples, validate on 5000 samples\n",
      "Epoch 1/4\n",
      "20000/20000 [==============================] - 16s 781us/step - loss: 0.1317 - acc: 0.9479 - val_loss: 0.0699 - val_acc: 0.9726\n",
      "Epoch 2/4\n",
      "20000/20000 [==============================] - 14s 718us/step - loss: 0.0386 - acc: 0.9854 - val_loss: 0.0376 - val_acc: 0.9856\n",
      "Epoch 3/4\n",
      "20000/20000 [==============================] - 14s 701us/step - loss: 0.0174 - acc: 0.9936 - val_loss: 0.0352 - val_acc: 0.9866\n",
      "Epoch 4/4\n",
      "20000/20000 [==============================] - 14s 694us/step - loss: 0.0088 - acc: 0.9974 - val_loss: 0.0400 - val_acc: 0.9862\n",
      "Train on 20000 samples, validate on 5000 samples\n",
      "Epoch 1/4\n",
      "20000/20000 [==============================] - 15s 753us/step - loss: 0.1374 - acc: 0.9456 - val_loss: 0.0433 - val_acc: 0.9826\n",
      "Epoch 2/4\n",
      "20000/20000 [==============================] - 14s 693us/step - loss: 0.0360 - acc: 0.9877 - val_loss: 0.0382 - val_acc: 0.9856\n",
      "Epoch 3/4\n",
      "20000/20000 [==============================] - 14s 692us/step - loss: 0.0160 - acc: 0.9947 - val_loss: 0.0406 - val_acc: 0.9842\n",
      "Epoch 4/4\n",
      "20000/20000 [==============================] - 14s 693us/step - loss: 0.0088 - acc: 0.9973 - val_loss: 0.0418 - val_acc: 0.9872\n",
      "Train on 20000 samples, validate on 5000 samples\n",
      "Epoch 1/4\n",
      "20000/20000 [==============================] - 15s 751us/step - loss: 0.1421 - acc: 0.9433 - val_loss: 0.0449 - val_acc: 0.9802\n",
      "Epoch 2/4\n",
      "20000/20000 [==============================] - 14s 692us/step - loss: 0.0364 - acc: 0.9870 - val_loss: 0.0410 - val_acc: 0.9836\n",
      "Epoch 3/4\n",
      "20000/20000 [==============================] - 14s 695us/step - loss: 0.0172 - acc: 0.9943 - val_loss: 0.0389 - val_acc: 0.9858\n",
      "Epoch 4/4\n",
      "20000/20000 [==============================] - 14s 703us/step - loss: 0.0086 - acc: 0.9981 - val_loss: 0.0484 - val_acc: 0.9848\n"
     ]
    }
   ],
   "source": [
    "ensemble_model = [fit_single_model() for i in range(4)]"
   ]
  },
  {
   "cell_type": "code",
   "execution_count": 27,
   "metadata": {
    "hidden": true
   },
   "outputs": [],
   "source": [
    "\n",
    "for i, model in enumerate(ensemble_model):\n",
    "    model.save_weights(MODEL_PATH + 'dcr_'+str(i)+'.pkl')\n"
   ]
  },
  {
   "cell_type": "markdown",
   "metadata": {
    "hidden": true
   },
   "source": [
    "### Check ensemble performance on validation set\n",
    "Checking how the ensemble model does on our validation set ..."
   ]
  },
  {
   "cell_type": "code",
   "execution_count": 36,
   "metadata": {
    "hidden": true
   },
   "outputs": [],
   "source": [
    "all_preds_val = np.stack([m.predict(valid_features_to_dense, batch_size=256) for m in ensemble_model])"
   ]
  },
  {
   "cell_type": "markdown",
   "metadata": {
    "hidden": true
   },
   "source": [
    "Taking the average over each ensemble model's predictions"
   ]
  },
  {
   "cell_type": "code",
   "execution_count": 37,
   "metadata": {
    "hidden": true
   },
   "outputs": [],
   "source": [
    "all_preds_val = all_preds_val.mean(axis=0)\n",
    "all_preds_val = np.argmax(all_preds_val, axis = 1)"
   ]
  },
  {
   "cell_type": "code",
   "execution_count": 38,
   "metadata": {
    "hidden": true
   },
   "outputs": [
    {
     "data": {
      "text/plain": [
       "(5000,)"
      ]
     },
     "execution_count": 38,
     "metadata": {},
     "output_type": "execute_result"
    }
   ],
   "source": [
    "all_preds_val.shape"
   ]
  },
  {
   "cell_type": "code",
   "execution_count": 39,
   "metadata": {
    "hidden": true
   },
   "outputs": [],
   "source": [
    "valid_labels_n = np.argmax(valid_labels, axis=1)"
   ]
  },
  {
   "cell_type": "code",
   "execution_count": 40,
   "metadata": {
    "hidden": true
   },
   "outputs": [],
   "source": [
    "from sklearn.metrics import accuracy_score"
   ]
  },
  {
   "cell_type": "code",
   "execution_count": 41,
   "metadata": {
    "hidden": true
   },
   "outputs": [
    {
     "data": {
      "text/plain": [
       "0.98799999999999999"
      ]
     },
     "execution_count": 41,
     "metadata": {},
     "output_type": "execute_result"
    }
   ],
   "source": [
    "accuracy_score(all_preds_val,valid_labels_n)"
   ]
  },
  {
   "cell_type": "markdown",
   "metadata": {
    "hidden": true
   },
   "source": [
    "\n",
    "As we can see, using an ensemble boosted our accuracies by almost 0.5%"
   ]
  },
  {
   "cell_type": "markdown",
   "metadata": {
    "heading_collapsed": true,
    "hidden": true
   },
   "source": [
    "### Get ensemble predictions on the test set"
   ]
  },
  {
   "cell_type": "code",
   "execution_count": 51,
   "metadata": {
    "hidden": true
   },
   "outputs": [],
   "source": [
    "test_preds = np.stack([m.predict(test_features_to_dense, batch_size=256) for m in ensemble_model])"
   ]
  },
  {
   "cell_type": "code",
   "execution_count": 52,
   "metadata": {
    "hidden": true
   },
   "outputs": [
    {
     "data": {
      "text/plain": [
       "(12500, 2)"
      ]
     },
     "execution_count": 52,
     "metadata": {},
     "output_type": "execute_result"
    }
   ],
   "source": [
    "test_preds = test_preds.mean(axis=0)\n",
    "test_preds.shape"
   ]
  },
  {
   "cell_type": "code",
   "execution_count": 63,
   "metadata": {
    "hidden": true
   },
   "outputs": [],
   "source": [
    "test_prediction_dog = test_preds[:,1]"
   ]
  },
  {
   "cell_type": "code",
   "execution_count": 64,
   "metadata": {
    "hidden": true
   },
   "outputs": [
    {
     "data": {
      "text/plain": [
       "array([  1.0000e+00,   9.9822e-07,   4.6777e-05, ...,   1.0000e+00,   8.9718e-11,   5.9325e-05], dtype=float32)"
      ]
     },
     "execution_count": 64,
     "metadata": {},
     "output_type": "execute_result"
    }
   ],
   "source": [
    "test_prediction_dog"
   ]
  },
  {
   "cell_type": "code",
   "execution_count": 75,
   "metadata": {
    "hidden": true
   },
   "outputs": [
    {
     "data": {
      "text/plain": [
       "['unknown/1.jpg', 'unknown/10.jpg', 'unknown/100.jpg', 'unknown/1000.jpg']"
      ]
     },
     "execution_count": 75,
     "metadata": {},
     "output_type": "execute_result"
    }
   ],
   "source": [
    "test_batches.filenames[0:4]"
   ]
  },
  {
   "cell_type": "code",
   "execution_count": 66,
   "metadata": {
    "hidden": true
   },
   "outputs": [
    {
     "data": {
      "text/plain": [
       "array([   1,   10,  100, ..., 9997, 9998, 9999])"
      ]
     },
     "execution_count": 66,
     "metadata": {},
     "output_type": "execute_result"
    }
   ],
   "source": [
    "ids = np.array([int(f[8:f.find('.')]) for f in test_batches.filenames])\n",
    "ids"
   ]
  },
  {
   "cell_type": "code",
   "execution_count": 67,
   "metadata": {
    "hidden": true
   },
   "outputs": [],
   "source": [
    "submission = np.stack([ids,test_prediction_dog], axis=1)"
   ]
  },
  {
   "cell_type": "code",
   "execution_count": 68,
   "metadata": {
    "hidden": true
   },
   "outputs": [],
   "source": [
    "submission_file_name = PATH + 'results/'+'submission3.csv'\n",
    "np.savetxt(submission_file_name, submission, fmt='%d,%.5f', header='id,label', comments='')"
   ]
  },
  {
   "cell_type": "code",
   "execution_count": 71,
   "metadata": {
    "hidden": true
   },
   "outputs": [
    {
     "data": {
      "text/html": [
       "<a href='data/dogscatsredux/results/submission3.csv' target='_blank'>data/dogscatsredux/results/submission3.csv</a><br>"
      ],
      "text/plain": [
       "/home/kshitijg1992/fastai/courses/deeplearning1/nbs/data/dogscatsredux/results/submission3.csv"
      ]
     },
     "execution_count": 71,
     "metadata": {},
     "output_type": "execute_result"
    }
   ],
   "source": [
    "FileLink(RESULT_PATH+'submission3.csv')"
   ]
  },
  {
   "cell_type": "markdown",
   "metadata": {
    "hidden": true
   },
   "source": [
    "This gave us a log loss of 0.15451 when submitted to the competition."
   ]
  },
  {
   "cell_type": "markdown",
   "metadata": {
    "hidden": true
   },
   "source": [
    "### Get clipped ensemble predictions"
   ]
  },
  {
   "cell_type": "markdown",
   "metadata": {
    "hidden": true
   },
   "source": [
    "We see from the above metrics on the validation set, that we get an accuracy of 98.8%. \n",
    "\n",
    "This however does not seem to be the reason why we got such a huge log-loss value. On more research, it was found that Log-Loss doesn't support probability values of 0 or 1--they are undefined (and we have many). Fortunately, Kaggle helps us by offsetting our 0s and 1s by a very small value. So if we upload our submission now we will have lots of .99999999 and .000000001 values. This seems good, right?\n",
    "\n",
    "Not so. There is an additional twist due to how log loss is calculated--log loss rewards predictions that are confident and correct (p=.9999,label=1), but it punishes predictions that are confident and wrong far more (p=.0001,label=1). \n",
    "\n",
    "Reference : https://goo.gl/3skCnp\n",
    "\n",
    "#So to play it safe, we use a sneaky trick to round down our edge predictions\n",
    "#Swap all ones with .95 and all zeros with .05"
   ]
  },
  {
   "cell_type": "code",
   "execution_count": 72,
   "metadata": {
    "hidden": true
   },
   "outputs": [],
   "source": [
    "test_prediction_dog_clipped = test_prediction_dog.clip(min=0.05, max=0.95)"
   ]
  },
  {
   "cell_type": "code",
   "execution_count": 73,
   "metadata": {
    "hidden": true
   },
   "outputs": [
    {
     "data": {
      "text/html": [
       "<a href='data/dogscatsredux/results/submission4.csv' target='_blank'>data/dogscatsredux/results/submission4.csv</a><br>"
      ],
      "text/plain": [
       "/home/kshitijg1992/fastai/courses/deeplearning1/nbs/data/dogscatsredux/results/submission4.csv"
      ]
     },
     "execution_count": 73,
     "metadata": {},
     "output_type": "execute_result"
    }
   ],
   "source": [
    "submission = np.stack([ids,test_prediction_dog_clipped], axis=1)\n",
    "\n",
    "submission_file_name = PATH + 'results/'+'submission4.csv'\n",
    "np.savetxt(submission_file_name, submission, fmt='%d,%.5f', header='id,label', comments='')\n",
    "\n",
    "FileLink(RESULT_PATH + 'submission4.csv')"
   ]
  },
  {
   "cell_type": "markdown",
   "metadata": {
    "hidden": true
   },
   "source": [
    "After clipping the prediction probabilities, on submission, we get a 0.09313 loss which is way better than our previous attempt"
   ]
  },
  {
   "cell_type": "markdown",
   "metadata": {},
   "source": [
    "## Fully Connected Convolution Layers - No Dense Layers!"
   ]
  },
  {
   "cell_type": "code",
   "execution_count": 32,
   "metadata": {},
   "outputs": [],
   "source": [
    "def get_fcc_model():\n",
    "    inp = Input(shape = base_model.output_shape[1:])\n",
    "    x = Convolution2D(filters=16, kernel_size=(3,3), padding='same', activation='relu')(inp)\n",
    "    x = BatchNormalization(axis = 1)(x)\n",
    "\n",
    "    x = Convolution2D(filters=16, kernel_size=(4,4), padding='same', activation='relu')(inp)\n",
    "    x = BatchNormalization(axis = 1)(x)\n",
    "    x = Dropout(0.4)(x)\n",
    "\n",
    "    x = Convolution2D(filters=16, kernel_size=(5,5), padding='same', activation='relu')(inp)\n",
    "    x = BatchNormalization(axis = 1)(x)\n",
    "    x = Dropout(0.4)(x)\n",
    "\n",
    "    ## Number of filter in this needs to be the same as number of classes\n",
    "    x = Convolution2D(filters=2, kernel_size=(3,3), padding='same')(x) \n",
    "    x = GlobalAveragePooling2D()(x)\n",
    "    preds = Activation('softmax')(x)\n",
    "\n",
    "    fccn = Model(inputs=inp, outputs=preds)\n",
    "    fccn.compile(optimizer=Adam(), loss='categorical_crossentropy', metrics=['accuracy'])\n",
    "    return fccn\n"
   ]
  },
  {
   "cell_type": "code",
   "execution_count": 33,
   "metadata": {},
   "outputs": [
    {
     "name": "stdout",
     "output_type": "stream",
     "text": [
      "_________________________________________________________________\n",
      "Layer (type)                 Output Shape              Param #   \n",
      "=================================================================\n",
      "input_4 (InputLayer)         (None, 7, 7, 512)         0         \n",
      "_________________________________________________________________\n",
      "conv2d_11 (Conv2D)           (None, 7, 7, 16)          204816    \n",
      "_________________________________________________________________\n",
      "batch_normalization_9 (Batch (None, 7, 7, 16)          28        \n",
      "_________________________________________________________________\n",
      "dropout_6 (Dropout)          (None, 7, 7, 16)          0         \n",
      "_________________________________________________________________\n",
      "conv2d_12 (Conv2D)           (None, 7, 7, 2)           290       \n",
      "_________________________________________________________________\n",
      "global_average_pooling2d_3 ( (None, 2)                 0         \n",
      "_________________________________________________________________\n",
      "activation_3 (Activation)    (None, 2)                 0         \n",
      "=================================================================\n",
      "Total params: 205,134\n",
      "Trainable params: 205,120\n",
      "Non-trainable params: 14\n",
      "_________________________________________________________________\n"
     ]
    }
   ],
   "source": [
    "fccn = get_fcc_model()\n",
    "fccn.summary()"
   ]
  },
  {
   "cell_type": "code",
   "execution_count": 34,
   "metadata": {},
   "outputs": [
    {
     "name": "stdout",
     "output_type": "stream",
     "text": [
      "Train on 20000 samples, validate on 5000 samples\n",
      "Epoch 1/12\n",
      "20000/20000 [==============================] - 4s 179us/step - loss: 0.0887 - acc: 0.9647 - val_loss: 0.0362 - val_acc: 0.9860\n",
      "Epoch 2/12\n",
      "20000/20000 [==============================] - 2s 124us/step - loss: 0.0405 - acc: 0.9850 - val_loss: 0.0346 - val_acc: 0.9856\n",
      "Epoch 3/12\n",
      "20000/20000 [==============================] - 3s 125us/step - loss: 0.0340 - acc: 0.9877 - val_loss: 0.0371 - val_acc: 0.9852\n",
      "Epoch 4/12\n",
      "20000/20000 [==============================] - 2s 124us/step - loss: 0.0290 - acc: 0.9886 - val_loss: 0.0381 - val_acc: 0.9860\n",
      "Epoch 5/12\n",
      "20000/20000 [==============================] - 3s 125us/step - loss: 0.0279 - acc: 0.9899 - val_loss: 0.0404 - val_acc: 0.9870\n",
      "Epoch 6/12\n",
      "20000/20000 [==============================] - 2s 124us/step - loss: 0.0219 - acc: 0.9925 - val_loss: 0.0423 - val_acc: 0.9852\n",
      "Epoch 7/12\n",
      "20000/20000 [==============================] - 2s 124us/step - loss: 0.0167 - acc: 0.9941 - val_loss: 0.0429 - val_acc: 0.9854\n",
      "Epoch 8/12\n",
      "20000/20000 [==============================] - 2s 124us/step - loss: 0.0159 - acc: 0.9945 - val_loss: 0.0446 - val_acc: 0.9844\n",
      "Epoch 9/12\n",
      "20000/20000 [==============================] - 2s 124us/step - loss: 0.0134 - acc: 0.9955 - val_loss: 0.0488 - val_acc: 0.9842\n",
      "Epoch 10/12\n",
      "20000/20000 [==============================] - 2s 124us/step - loss: 0.0088 - acc: 0.9972 - val_loss: 0.0548 - val_acc: 0.9858\n",
      "Epoch 11/12\n",
      "20000/20000 [==============================] - 2s 124us/step - loss: 0.0046 - acc: 0.9990 - val_loss: 0.0557 - val_acc: 0.9854\n",
      "Epoch 12/12\n",
      "20000/20000 [==============================] - 2s 124us/step - loss: 0.0040 - acc: 0.9991 - val_loss: 0.0556 - val_acc: 0.9860\n"
     ]
    },
    {
     "data": {
      "text/plain": [
       "<keras.callbacks.History at 0x7f801406ab00>"
      ]
     },
     "execution_count": 34,
     "metadata": {},
     "output_type": "execute_result"
    }
   ],
   "source": [
    "fccn.optimizer.lr = 1e-3\n",
    "fccn.fit(train_features_to_dense, train_labels, epochs=12, \n",
    "             batch_size=batch_size*4, validation_data=(valid_features_to_dense, valid_labels))"
   ]
  },
  {
   "cell_type": "markdown",
   "metadata": {},
   "source": [
    "As we can see, this models trains almost instantly as compared to the previous VGG model where we had two 4096 dense layers on top. This is because in a dense layer, each activation goes to every other activation, as a result of this, the number of parameters become multiplied (n x m where n and m are the number of activations).\n",
    "\n",
    "As such, a fully connected convolution model trains a lot faster than the one which had dense layers on top."
   ]
  }
 ],
 "metadata": {
  "kernelspec": {
   "display_name": "Python 3",
   "language": "python",
   "name": "python3"
  },
  "language_info": {
   "codemirror_mode": {
    "name": "ipython",
    "version": 3
   },
   "file_extension": ".py",
   "mimetype": "text/x-python",
   "name": "python",
   "nbconvert_exporter": "python",
   "pygments_lexer": "ipython3",
   "version": "3.5.2"
  },
  "toc": {
   "nav_menu": {},
   "number_sections": true,
   "sideBar": true,
   "skip_h1_title": false,
   "toc_cell": false,
   "toc_position": {},
   "toc_section_display": "block",
   "toc_window_display": false
  },
  "widgets": {
   "state": {},
   "version": "1.1.2"
  }
 },
 "nbformat": 4,
 "nbformat_minor": 2
}
