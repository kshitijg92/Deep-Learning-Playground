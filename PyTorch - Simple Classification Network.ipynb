{
 "cells": [
  {
   "cell_type": "markdown",
   "metadata": {},
   "source": [
    "# PyTorch - Introduction - Simple Image Classifier\n",
    "\n",
    "In this notebook, we will try to build a simple image classifier on the CIFAR-10 dataset. Our goal in this notebook is not to get state of the art accuracies but rather, to become comfortable with pytorch.\n",
    "\n",
    "The CIFAR-10 dataset has the classes: ‘airplane’, ‘automobile’, ‘bird’, ‘cat’, ‘deer’, ‘dog’, ‘frog’, ‘horse’, ‘ship’, ‘truck’. The images in CIFAR-10 are of size 3x32x32, i.e. 3-channel color images of 32x32 pixels in size.\n",
    "\n",
    "This notebook will just be an imitation of the wonderful tutorial at the PyTorch docs itself.\n",
    "\n",
    "Reference : http://pytorch.org/tutorials/beginner/blitz/cifar10_tutorial.html"
   ]
  },
  {
   "cell_type": "markdown",
   "metadata": {},
   "source": [
    "## Imports\n",
    "\n",
    "\n"
   ]
  },
  {
   "cell_type": "code",
   "execution_count": 51,
   "metadata": {},
   "outputs": [],
   "source": [
    "import torch\n",
    "import torchvision\n",
    "import torchvision.transforms as transforms\n",
    "\n",
    "import numpy as np\n",
    "import matplotlib.pyplot as plt\n",
    "\n",
    "from torch.autograd import Variable\n",
    "import torch.nn as nn\n",
    "import torch.nn.functional as F\n",
    "\n",
    "import torch.optim as optim\n",
    "\n",
    "%matplotlib inline"
   ]
  },
  {
   "cell_type": "markdown",
   "metadata": {},
   "source": [
    "The torchvision package has data loaders for common datasets such as Imagenet, CIFAR10, MNIST, etc. and data transformers for images, viz., *torchvision.datasets* and *torch.utils.data.DataLoader*. The output of torchvision datasets are PILImage images of range [0, 1]. We transform them to Tensors of normalized range [-1, 1].\n",
    "\n",
    "Now, one of the cool things about PyTorch is that we can create a set of transformations. While loading the dataset using torchvision, we can then specify these and the data would be transformed accordingly.\n",
    "\n",
    "Reference : http://pytorch.org/docs/master/torchvision/transforms.html\n",
    "\n",
    "Reference : http://pytorch.org/docs/master/data.html#torch.utils.data.DataLoader"
   ]
  },
  {
   "cell_type": "code",
   "execution_count": 39,
   "metadata": {},
   "outputs": [],
   "source": [
    "PATH = 'data/CIFAR10/'\n",
    "RESULTS = PATH + 'results/'\n",
    "MODELS = PATH + 'models/'"
   ]
  },
  {
   "cell_type": "code",
   "execution_count": 21,
   "metadata": {},
   "outputs": [
    {
     "name": "stdout",
     "output_type": "stream",
     "text": [
      "Files already downloaded and verified\n",
      "Files already downloaded and verified\n"
     ]
    }
   ],
   "source": [
    "transformations = transforms.Compose( [ transforms.ToTensor(),\n",
    "                                        transforms.Normalize(mean=(0.5,0.5,0.5), std=(0.5,0.5,0.5) ) ]  )\n",
    "\n",
    "trainset = torchvision.datasets.CIFAR10(root=PATH, download=True, train=True,transform=transformations)\n",
    "\n",
    "trainLoader = torch.utils.data.DataLoader(trainset, shuffle=True, batch_size=32, num_workers=2)\n",
    "\n",
    "testset = torchvision.datasets.CIFAR10(root=PATH, download=True, train=False,transform=transformations)\n",
    "\n",
    "testLoader = torch.utils.data.DataLoader(testset, shuffle=True, batch_size=32, num_workers=2)\n",
    "\n",
    "classes = ('plane', 'car', 'bird', 'cat',\n",
    "           'deer', 'dog', 'frog', 'horse', 'ship', 'truck')"
   ]
  },
  {
   "cell_type": "markdown",
   "metadata": {},
   "source": [
    "## Data Exploration\n",
    "\n",
    "Now that we know how to download and transform the dataset in such a simple manner, let us see a few examples from the dataset."
   ]
  },
  {
   "cell_type": "code",
   "execution_count": 92,
   "metadata": {},
   "outputs": [],
   "source": [
    "def imshow(img):\n",
    "    \n",
    "    img = img*0.5 + 0.5 #unnormalize the data first\n",
    "    \n",
    "    # To convert a torch tensor to a numpy array, we just call .numpy on the tensor\n",
    "    \n",
    "    img = img.numpy()\n",
    "    \n",
    "    # Now the image is format (#channels, height, width)\n",
    "    # For tensorflow, the channel should appear at the last\n",
    "    \n",
    "    img = np.transpose(img, (1,2,0))\n",
    "    plt.imshow(img)\n",
    "    plt.plot()"
   ]
  },
  {
   "cell_type": "code",
   "execution_count": 93,
   "metadata": {},
   "outputs": [],
   "source": [
    "dataiter = iter(trainLoader)\n",
    "images, labels = dataiter.next()"
   ]
  },
  {
   "cell_type": "code",
   "execution_count": 94,
   "metadata": {},
   "outputs": [
    {
     "data": {
      "text/plain": [
       "torch.Size([3, 32, 32])"
      ]
     },
     "execution_count": 94,
     "metadata": {},
     "output_type": "execute_result"
    }
   ],
   "source": [
    "images[0].shape"
   ]
  },
  {
   "cell_type": "code",
   "execution_count": 95,
   "metadata": {},
   "outputs": [
    {
     "data": {
      "image/png": "[encoded data removed]",
      "text/plain": [
       "<matplotlib.figure.Figure at 0x7fddb1ccc588>"
      ]
     },
     "metadata": {},
     "output_type": "display_data"
    }
   ],
   "source": [
    "imshow(torchvision.utils.make_grid(images[:8]))"
   ]
  },
  {
   "cell_type": "code",
   "execution_count": 96,
   "metadata": {},
   "outputs": [
    {
     "data": {
      "text/plain": [
       "'deer bird deer car bird car deer bird'"
      ]
     },
     "execution_count": 96,
     "metadata": {},
     "output_type": "execute_result"
    }
   ],
   "source": [
    "' '.join(classes[label] for label in labels[:8])"
   ]
  },
  {
   "cell_type": "markdown",
   "metadata": {},
   "source": [
    "## Model Creation"
   ]
  },
  {
   "cell_type": "markdown",
   "metadata": {},
   "source": [
    "What we will be doing to create the network is to create a subclass of torch.nn.Module.\n",
    "\n",
    "When subclassing torch.nn.Module, 2 functions need to be implemented:\n",
    "\n",
    "* **__init__** function has to first call the parents __init__ method. We can then define parameters of the layer here as the class variables i.e. self.x\n",
    "\n",
    "* **forward** funtion is where we pass an input through the layer, perform operations on inputs using parameters and return the output. The input needs to be an autograd.Variable() so that pytorch can build the computational graph of the layer.\n",
    "\n",
    "Reference : https://hsaghir.github.io/data_science/pytorch_starter/\n",
    "\n",
    "Here are some references to the layers we will be using : \n",
    "\n",
    "Reference : http://pytorch.org/docs/master/nn.html#torch.nn.Conv2d\n",
    "\n",
    "Reference : http://pytorch.org/docs/master/nn.html#torch.nn.MaxPool2d\n",
    "\n",
    "Reference : http://pytorch.org/docs/master/nn.html#torch.nn.Linear\n",
    "\n",
    "**NOTE**\n",
    "\n",
    "There is no padding by default in PyTorch Conv2d layers. The convolutions are 'valid' by deafult and this we might lose some of the last columns of the input. It is left to the user to provide proper padding if needed."
   ]
  },
  {
   "cell_type": "markdown",
   "metadata": {},
   "source": [
    "### Create Network"
   ]
  },
  {
   "cell_type": "code",
   "execution_count": 189,
   "metadata": {},
   "outputs": [],
   "source": [
    "class CNN(nn.Module):\n",
    "\n",
    "    def __init__(self):\n",
    "        \n",
    "        super(CNN,self).__init__()\n",
    "        \n",
    "        # we are working with RGB images, so we will have 3 input channels to the first conv layer\n",
    "        self.conv1 = nn.Conv2d(in_channels=3, out_channels=64, kernel_size=(5,5))\n",
    "        self.pool1 = nn.MaxPool2d(kernel_size=(2,2), stride=(2,2))\n",
    "        \n",
    "        #output of previous row and input of next row should be same\n",
    "        self.conv2 = nn.Conv2d(in_channels=64, out_channels=128, kernel_size=(5,5))\n",
    "        \n",
    "        self.fc1 = nn.Linear(in_features=128*5*5, out_features=600)\n",
    "        self.fc2 = nn.Linear(in_features=600, out_features=60)\n",
    "        \n",
    "        #Last fully connected layer has output of 10 since we have 10 classes\n",
    "        self.fc3 = nn.Linear(in_features=60, out_features=10)\n",
    "        \n",
    "    def forward(self, x):\n",
    "        \n",
    "        x = self.conv1(x)\n",
    "        x = F.relu(x)\n",
    "        x = self.pool1(x)\n",
    "        \n",
    "        x = self.conv2(x)\n",
    "        x = F.relu(x)\n",
    "        x = self.pool1(x)\n",
    "        \n",
    "        # Before passing the output to the linear layers, we will need to flatten the output of previous layer\n",
    "        \n",
    "        x = x.view(-1, self.num_of_flattened_features(x))\n",
    "        \n",
    "        x = self.fc1(x)\n",
    "        x = F.relu(x)\n",
    "        \n",
    "        x = self.fc2(x)\n",
    "        x = F.relu(x)\n",
    "        \n",
    "        x = self.fc3(x)\n",
    "        \n",
    "        return x\n",
    "    \n",
    "    def num_of_flattened_features(self, x):\n",
    "        shape = x.size()[1:] # The first dimension is just the batch size\n",
    "        n = 1\n",
    "        \n",
    "        for s in shape:\n",
    "            n = n*s\n",
    "        \n",
    "        return n"
   ]
  },
  {
   "cell_type": "markdown",
   "metadata": {},
   "source": [
    "The .cuda() method will transfer the build network onto the GPU"
   ]
  },
  {
   "cell_type": "code",
   "execution_count": 190,
   "metadata": {},
   "outputs": [],
   "source": [
    "cnn_model = CNN().cuda()"
   ]
  },
  {
   "cell_type": "code",
   "execution_count": 191,
   "metadata": {},
   "outputs": [
    {
     "name": "stdout",
     "output_type": "stream",
     "text": [
      "CNN(\n",
      "  (conv1): Conv2d (3, 64, kernel_size=(5, 5), stride=(1, 1))\n",
      "  (pool1): MaxPool2d(kernel_size=(2, 2), stride=(2, 2), dilation=(1, 1))\n",
      "  (conv2): Conv2d (64, 128, kernel_size=(5, 5), stride=(1, 1))\n",
      "  (fc1): Linear(in_features=3200, out_features=600)\n",
      "  (fc2): Linear(in_features=600, out_features=60)\n",
      "  (fc3): Linear(in_features=60, out_features=10)\n",
      ")\n"
     ]
    }
   ],
   "source": [
    "print(cnn_model)"
   ]
  },
  {
   "cell_type": "code",
   "execution_count": 192,
   "metadata": {},
   "outputs": [
    {
     "name": "stdout",
     "output_type": "stream",
     "text": [
      "Number of parameters are : 10\n",
      "torch.Size([64, 3, 5, 5])\n",
      "torch.Size([64])\n",
      "torch.Size([128, 64, 5, 5])\n",
      "torch.Size([128])\n",
      "torch.Size([600, 3200])\n",
      "torch.Size([600])\n",
      "torch.Size([60, 600])\n",
      "torch.Size([60])\n",
      "torch.Size([10, 60])\n",
      "torch.Size([10])\n"
     ]
    }
   ],
   "source": [
    "params = list(cnn_model.parameters())\n",
    "print(\"Number of parameters are : \" + str(len(params)))\n",
    "\n",
    "for param in params:\n",
    "    print(param.size())"
   ]
  },
  {
   "cell_type": "markdown",
   "metadata": {},
   "source": [
    "### Define Loss Function and Optimizer"
   ]
  },
  {
   "cell_type": "markdown",
   "metadata": {},
   "source": [
    "We will be using the cross entropy loss since are are training a multi-class classifier. Also, for optimization, we will be using Stochastic Gradient Descent.\n",
    "\n",
    "Reference : http://pytorch.org/docs/master/nn.html#torch.nn.CrossEntropyLoss\n",
    "\n",
    "Reference : http://pytorch.org/docs/master/optim.html#torch.optim.SGD"
   ]
  },
  {
   "cell_type": "code",
   "execution_count": 193,
   "metadata": {},
   "outputs": [],
   "source": [
    "loss_fn = nn.CrossEntropyLoss().cuda()\n",
    "optimizer = optim.SGD(cnn_model.parameters(), lr=1e-4, momentum=0.9)"
   ]
  },
  {
   "cell_type": "markdown",
   "metadata": {},
   "source": [
    "### Training The Network"
   ]
  },
  {
   "cell_type": "markdown",
   "metadata": {},
   "source": [
    "Now we are ready to start training the model. We will be training our model over a few epochs. In each epoch, here are the steps we will be doing  :\n",
    "\n",
    "    * Loop over the DataLoader for the training set, here trainLoader, and get the images and labels a batch at a time.\n",
    "    * Compute a forward pass over the Network to get the outputs\n",
    "    * Feed the targets, i.e. the labels and the outputs to the loss function we had above\n",
    "    * Do a backward pass over the Network\n",
    "    * Perform an optimazation step\n",
    "\n",
    "Reference : http://pytorch.org/docs/master/optim.html#how-to-use-an-optimizer"
   ]
  },
  {
   "cell_type": "code",
   "execution_count": 194,
   "metadata": {},
   "outputs": [],
   "source": [
    "epochs = 2"
   ]
  },
  {
   "cell_type": "code",
   "execution_count": 195,
   "metadata": {},
   "outputs": [
    {
     "name": "stdout",
     "output_type": "stream",
     "text": [
      "Epoch : 1| Batches done : 200\n",
      "Loss is : 0.0011489648818969727\n",
      "\n",
      "Epoch : 1| Batches done : 400\n",
      "Loss is : 0.001140293002128601\n",
      "\n",
      "Epoch : 1| Batches done : 600\n",
      "Loss is : 0.0011495072841644287\n",
      "\n",
      "Epoch : 1| Batches done : 800\n",
      "Loss is : 0.0011521855592727661\n",
      "\n",
      "Epoch : 1| Batches done : 1000\n",
      "Loss is : 0.00114233660697937\n",
      "\n",
      "Epoch : 1| Batches done : 1200\n",
      "Loss is : 0.0011353874206542968\n",
      "\n",
      "Epoch : 1| Batches done : 1400\n",
      "Loss is : 0.0011483545303344726\n",
      "\n",
      "Epoch : 2| Batches done : 200\n",
      "Loss is : 0.0011377419233322143\n",
      "\n",
      "Epoch : 2| Batches done : 400\n",
      "Loss is : 0.0011387569904327392\n",
      "\n",
      "Epoch : 2| Batches done : 600\n",
      "Loss is : 0.0011455599069595337\n",
      "\n",
      "Epoch : 2| Batches done : 800\n",
      "Loss is : 0.0011269819736480712\n",
      "\n",
      "Epoch : 2| Batches done : 1000\n",
      "Loss is : 0.0011237307786941529\n",
      "\n",
      "Epoch : 2| Batches done : 1200\n",
      "Loss is : 0.0011267271041870118\n",
      "\n",
      "Epoch : 2| Batches done : 1400\n",
      "Loss is : 0.001125049352645874\n",
      "\n"
     ]
    }
   ],
   "source": [
    "for epoch in range(epochs):\n",
    "    \n",
    "    for i, data in enumerate(trainLoader,1): # the second argument 1, makes i start from 1 instead of zero\n",
    "        \n",
    "        # Get the inputs\n",
    "        img, label = data\n",
    "        \n",
    "        # Wrap them in Variables and call .cuda() to load them on GPU\n",
    "        \n",
    "        img  =  Variable(img.cuda()) \n",
    "        label = Variable(label.cuda())\n",
    "        \n",
    "        # We need to clear the existing gradients, else gradients will be accumulated to existing gradients\n",
    "        optimizer.zero_grad()\n",
    "        \n",
    "        output = cnn_model(img)           # Forward pass to compute the output\n",
    "        curr_loss = loss_fn(output,label) # Compute loss function\n",
    "        curr_loss.backward()              # Backward pass to compute the gradients\n",
    "        optimizer.step()                  # Optimize weights to reduce loss\n",
    "        \n",
    "        running_loss = curr_loss.data[0]\n",
    "        \n",
    "        if i%200 == 0 :                # for every 2000 mini-bacthes\n",
    "            print(\"Epoch : \"+str(epoch+1) + \"| Batches done : \" + str(i))\n",
    "            print(\"Loss is : \"  +str(running_loss/2000))\n",
    "            print()\n",
    "            running_loss = 0\n",
    "            \n",
    "            "
   ]
  },
  {
   "cell_type": "markdown",
   "metadata": {},
   "source": [
    "### Testing The Network\n",
    "\n",
    "Now that we are done with training the network, we can start using it. Let us test it on our test dataset.\n",
    "\n",
    "Let us look at a few images from the test set."
   ]
  },
  {
   "cell_type": "code",
   "execution_count": 196,
   "metadata": {},
   "outputs": [],
   "source": [
    "dataiter = iter(testLoader)\n",
    "images, labels = dataiter.next()"
   ]
  },
  {
   "cell_type": "code",
   "execution_count": 197,
   "metadata": {},
   "outputs": [
    {
     "data": {
      "image/png": "[encoded data removed]",
      "text/plain": [
       "<matplotlib.figure.Figure at 0x7fddaf40f978>"
      ]
     },
     "metadata": {},
     "output_type": "display_data"
    }
   ],
   "source": [
    "imshow(torchvision.utils.make_grid(images[:8]))"
   ]
  },
  {
   "cell_type": "code",
   "execution_count": 198,
   "metadata": {},
   "outputs": [
    {
     "data": {
      "text/plain": [
       "'cat deer bird plane horse bird horse ship'"
      ]
     },
     "execution_count": 198,
     "metadata": {},
     "output_type": "execute_result"
    }
   ],
   "source": [
    "' '.join(classes[label] for label in labels[:8])"
   ]
  },
  {
   "cell_type": "code",
   "execution_count": 199,
   "metadata": {},
   "outputs": [],
   "source": [
    "preds = cnn_model(Variable(images.cuda()))"
   ]
  },
  {
   "cell_type": "code",
   "execution_count": 200,
   "metadata": {},
   "outputs": [
    {
     "data": {
      "text/plain": [
       "torch.Size([32, 10])"
      ]
     },
     "execution_count": 200,
     "metadata": {},
     "output_type": "execute_result"
    }
   ],
   "source": [
    "preds.shape"
   ]
  },
  {
   "cell_type": "markdown",
   "metadata": {},
   "source": [
    "The outputs are energies for the 10 classes. Higher the energy for a class, the more the network thinks that the image is of the particular class. So, let’s get the index of the highest energy:\n",
    "\n"
   ]
  },
  {
   "cell_type": "code",
   "execution_count": 201,
   "metadata": {},
   "outputs": [],
   "source": [
    "_, predicted = torch.max(preds.data,1)"
   ]
  },
  {
   "cell_type": "code",
   "execution_count": 202,
   "metadata": {},
   "outputs": [
    {
     "data": {
      "text/plain": [
       "'frog frog frog ship frog dog frog frog'"
      ]
     },
     "execution_count": 202,
     "metadata": {},
     "output_type": "execute_result"
    }
   ],
   "source": [
    "' '.join(classes[predicted[j]] for j in range(8))"
   ]
  },
  {
   "cell_type": "code",
   "execution_count": 203,
   "metadata": {},
   "outputs": [
    {
     "data": {
      "text/plain": [
       "32"
      ]
     },
     "execution_count": 203,
     "metadata": {},
     "output_type": "execute_result"
    }
   ],
   "source": [
    "labels.size(0)"
   ]
  },
  {
   "cell_type": "markdown",
   "metadata": {},
   "source": [
    "Let us see its performance on the whole test set."
   ]
  },
  {
   "cell_type": "code",
   "execution_count": 204,
   "metadata": {},
   "outputs": [],
   "source": [
    "correct = 0\n",
    "total = 0\n",
    "\n",
    "for data in testLoader:\n",
    "    img, label = data\n",
    "    \n",
    "    img  =  Variable(img).cuda() \n",
    "    label = label.cuda()\n",
    "    \n",
    "    pred = cnn_model(img)\n",
    "    _, predictions = torch.max(pred.data,1)\n",
    "    \n",
    "    total = total + label.size(0)\n",
    "    \n",
    "    curr_correct = (predictions == label).sum()\n",
    "    \n",
    "    correct = correct + curr_correct"
   ]
  },
  {
   "cell_type": "code",
   "execution_count": 205,
   "metadata": {},
   "outputs": [
    {
     "data": {
      "text/plain": [
       "(2317, 10000)"
      ]
     },
     "execution_count": 205,
     "metadata": {},
     "output_type": "execute_result"
    }
   ],
   "source": [
    "correct, total"
   ]
  },
  {
   "cell_type": "code",
   "execution_count": 206,
   "metadata": {},
   "outputs": [
    {
     "name": "stdout",
     "output_type": "stream",
     "text": [
      "Accuracy is : 23.17\n"
     ]
    }
   ],
   "source": [
    "print(\"Accuracy is : \" + str(100*correct/total))"
   ]
  }
 ],
 "metadata": {
  "kernelspec": {
   "display_name": "Python 3",
   "language": "python",
   "name": "python3"
  },
  "language_info": {
   "codemirror_mode": {
    "name": "ipython",
    "version": 3
   },
   "file_extension": ".py",
   "mimetype": "text/x-python",
   "name": "python",
   "nbconvert_exporter": "python",
   "pygments_lexer": "ipython3",
   "version": "3.5.2"
  },
  "toc": {
   "nav_menu": {},
   "number_sections": true,
   "sideBar": true,
   "skip_h1_title": false,
   "toc_cell": false,
   "toc_position": {},
   "toc_section_display": "block",
   "toc_window_display": false
  },
  "widgets": {
   "state": {},
   "version": "1.1.2"
  }
 },
 "nbformat": 4,
 "nbformat_minor": 2
}
