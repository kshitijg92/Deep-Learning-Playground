{
 "cells": [
  {
   "cell_type": "markdown",
   "metadata": {},
   "source": [
    "# DCGAN - Deep Convolutional Generative Adversarial Networks - Keras\n",
    "\n",
    "In this notebook, we will be exploring another variant of GANs' called DCGANs'. In the previous notebook, we implemented a GAN using MLP. However, unfortunately, that model was struck by mode collapse and could not learn much. In this notebook, we will be building a deep convolutional GAN which will hopefully help us overcome that issue.\n",
    "\n",
    "This notebook is based on the paper : (we dont use exact same architecture though)\n",
    "\n",
    "Reference : https://arxiv.org/abs/1511.06434\n",
    "\n",
    "**NOTE**\n",
    "\n",
    "We will be directly using the helper functions we built in the MLP GAN notebook. So for references to those methods, please consult that notebook."
   ]
  },
  {
   "cell_type": "markdown",
   "metadata": {},
   "source": [
    "## Imports"
   ]
  },
  {
   "cell_type": "code",
   "execution_count": 37,
   "metadata": {},
   "outputs": [],
   "source": [
    "from __future__ import division,print_function\n",
    "from PIL import Image\n",
    "import gc,re\n",
    "\n",
    "from keras.applications.vgg16 import VGG16\n",
    "from keras.preprocessing import image\n",
    "from keras.applications.vgg16 import preprocess_input\n",
    "import numpy as np\n",
    "\n",
    "from keras.models import Model, Sequential\n",
    "from keras.layers import Input, Dense, Activation, LeakyReLU, Reshape, Convolution2D, \\\n",
    "                         UpSampling2D, Flatten, Dropout\n",
    "#from keras.layers.merge import Add\n",
    "from keras.optimizers import Adam, RMSprop\n",
    "from keras.layers.normalization import BatchNormalization\n",
    "from keras.utils import to_categorical\n",
    "from keras.callbacks import ModelCheckpoint\n",
    "\n",
    "from importlib import reload\n",
    "from keras import backend as K\n",
    "from keras.datasets import imdb\n",
    "\n",
    "np.random.seed(7)\n",
    "\n",
    "from keras.preprocessing.image import load_img, img_to_array\n",
    "\n",
    "import bcolz\n",
    "from IPython.display import FileLink\n",
    "import os, json\n",
    "from glob import glob\n",
    "import numpy as np\n",
    "np.set_printoptions(precision=4, linewidth=100)\n",
    "from matplotlib import pyplot as plt\n",
    "\n",
    "from scipy.optimize import fmin_l_bfgs_b\n",
    "from keras import metrics\n",
    "from scipy.misc import imsave\n",
    "import imageio\n",
    "\n",
    "%matplotlib inline"
   ]
  },
  {
   "cell_type": "markdown",
   "metadata": {},
   "source": [
    "## Load Dataset"
   ]
  },
  {
   "cell_type": "code",
   "execution_count": 38,
   "metadata": {},
   "outputs": [],
   "source": [
    "def limit_mem():\n",
    "    K.get_session().close()\n",
    "    cfg = K.tf.ConfigProto()\n",
    "    cfg.gpu_options.allow_growth = True\n",
    "    K.set_session(K.tf.Session(config=cfg))\n",
    "limit_mem()"
   ]
  },
  {
   "cell_type": "code",
   "execution_count": 39,
   "metadata": {},
   "outputs": [
    {
     "data": {
      "text/plain": [
       "(60000, 28, 28)"
      ]
     },
     "execution_count": 39,
     "metadata": {},
     "output_type": "execute_result"
    }
   ],
   "source": [
    "from keras.datasets import mnist\n",
    "\n",
    "(X_train, y_train), (X_test,y_test) = mnist.load_data()\n",
    "X_train.shape"
   ]
  },
  {
   "cell_type": "code",
   "execution_count": 40,
   "metadata": {},
   "outputs": [],
   "source": [
    "def plot(im,sz):\n",
    "    fig = plt.figure(figsize=(7,7))\n",
    "    for i, img in enumerate(im):\n",
    "        a = fig.add_subplot(sz,sz,i+1)\n",
    "        plt.imshow(img, cmap='gray')"
   ]
  },
  {
   "cell_type": "code",
   "execution_count": 41,
   "metadata": {},
   "outputs": [
    {
     "data": {
      "image/png": "[encoded data removed]",
      "text/plain": [
       "<matplotlib.figure.Figure at 0x7f05c762bbe0>"
      ]
     },
     "metadata": {},
     "output_type": "display_data"
    }
   ],
   "source": [
    "plot(X_train[:16],4)"
   ]
  },
  {
   "cell_type": "code",
   "execution_count": 42,
   "metadata": {},
   "outputs": [],
   "source": [
    "n = len(X_train)\n"
   ]
  },
  {
   "cell_type": "code",
   "execution_count": 43,
   "metadata": {},
   "outputs": [
    {
     "data": {
      "text/plain": [
       "array([  0,   0,   0,   0,   0,   0,   0,   0,  23,  66, 213, 253, 253, 253, 253, 198,  81,   2,\n",
       "         0,   0,   0,   0,   0,   0,   0,   0,   0,   0], dtype=uint8)"
      ]
     },
     "execution_count": 43,
     "metadata": {},
     "output_type": "execute_result"
    }
   ],
   "source": [
    "X_train[0][21]"
   ]
  },
  {
   "cell_type": "markdown",
   "metadata": {},
   "source": [
    "Since we will be working with CNNs' we are not flattening the data as we did for MLP GAN. Instead, we add a 1 to the fourth dimension since that is the dimension for color channel in tensorflow.\n",
    "\n",
    "(1 because we have grayscale images).\n",
    "\n",
    "Also, we will be using tanh as the activation function in the last layer of our generator. Tanh reduces the weights to [-1,1]. So, we are rescaling our image floats to be in the same range of [-1,1]"
   ]
  },
  {
   "cell_type": "code",
   "execution_count": 44,
   "metadata": {},
   "outputs": [
    {
     "data": {
      "text/plain": [
       "(60000, 28, 28, 1)"
      ]
     },
     "execution_count": 44,
     "metadata": {},
     "output_type": "execute_result"
    }
   ],
   "source": [
    "X_train = X_train.reshape(n, 28,28,1)\n",
    "X_test = X_test.reshape(len(X_test), 28,28,1)\n",
    "\n",
    "X_train = (X_train - 127.5) / 127.5\n",
    "\n",
    "X_train.shape"
   ]
  },
  {
   "cell_type": "code",
   "execution_count": 45,
   "metadata": {},
   "outputs": [
    {
     "data": {
      "text/plain": [
       "array([[-1.    ],\n",
       "       [-1.    ],\n",
       "       [-1.    ],\n",
       "       [-1.    ],\n",
       "       [-1.    ],\n",
       "       [-1.    ],\n",
       "       [-1.    ],\n",
       "       [-1.    ],\n",
       "       [-0.8196],\n",
       "       [-0.4824],\n",
       "       [ 0.6706],\n",
       "       [ 0.9843],\n",
       "       [ 0.9843],\n",
       "       [ 0.9843],\n",
       "       [ 0.9843],\n",
       "       [ 0.5529],\n",
       "       [-0.3647],\n",
       "       [-0.9843],\n",
       "       [-1.    ],\n",
       "       [-1.    ],\n",
       "       [-1.    ],\n",
       "       [-1.    ],\n",
       "       [-1.    ],\n",
       "       [-1.    ],\n",
       "       [-1.    ],\n",
       "       [-1.    ],\n",
       "       [-1.    ],\n",
       "       [-1.    ]])"
      ]
     },
     "execution_count": 45,
     "metadata": {},
     "output_type": "execute_result"
    }
   ],
   "source": [
    "X_train[0][21]"
   ]
  },
  {
   "cell_type": "markdown",
   "metadata": {},
   "source": [
    "## Helper Functions"
   ]
  },
  {
   "cell_type": "code",
   "execution_count": 46,
   "metadata": {},
   "outputs": [],
   "source": [
    "g_inp_dim = 100\n",
    "batch_size = 128\n",
    "n_epochs = 1000"
   ]
  },
  {
   "cell_type": "code",
   "execution_count": 47,
   "metadata": {},
   "outputs": [],
   "source": [
    "def get_noise_for_G(n_examples):\n",
    "    noise = np.random.rand(n_examples, g_inp_dim)\n",
    "    return noise"
   ]
  },
  {
   "cell_type": "code",
   "execution_count": 48,
   "metadata": {},
   "outputs": [],
   "source": [
    "def get_data_for_D(n_samples, G):\n",
    "    X_real = X_train[np.random.randint(0,n,size=n_samples)]\n",
    "    X_fake = G.predict(get_noise_for_G(n_samples))\n",
    "    \n",
    "    X = np.concatenate((X_real, X_fake))\n",
    "    \n",
    "    y_real = [0]*n_samples    # 0 is for real\n",
    "    y_fake = [1]*n_samples    # 1 is for fake\n",
    "    y = y_real + y_fake\n",
    "    \n",
    "    return X,y"
   ]
  },
  {
   "cell_type": "code",
   "execution_count": 49,
   "metadata": {},
   "outputs": [],
   "source": [
    "def make_trainable(model, val):\n",
    "    model.trainable = val\n",
    "    for layer in model.layers:\n",
    "        layer.trainable = val\n",
    "    #model.compile(optimizer='adam', loss='binary_crossentropy')"
   ]
  },
  {
   "cell_type": "code",
   "execution_count": 50,
   "metadata": {},
   "outputs": [],
   "source": [
    "from tqdm import tqdm\n",
    "def train(D,G,m,epochs=n_epochs, batch_size = 128, n_samples = 64):\n",
    "    dl, gl = [],[]\n",
    "    for i in tqdm(range(epochs)):\n",
    "        \n",
    "        X,y = get_data_for_D(n_samples, G)\n",
    "        dl.append(D.train_on_batch(X,y))\n",
    "        \n",
    "        # After training the Discriminator, we want to train the Generator. \n",
    "        # We dont want to modify the Discriminator while doing that.\n",
    "        make_trainable(D,False)\n",
    "        \n",
    "        X_G = get_noise_for_G(batch_size)\n",
    "        y_G = [0]*batch_size   # we want the generator to generate images which look real\n",
    "        gl.append(m.train_on_batch(X_G,y_G))\n",
    "        \n",
    "        # After training the Generator, we want to train the Discriminator. \n",
    "        make_trainable(D, True)\n",
    "    return dl,gl"
   ]
  },
  {
   "cell_type": "markdown",
   "metadata": {},
   "source": [
    "## Create Models"
   ]
  },
  {
   "cell_type": "markdown",
   "metadata": {},
   "source": [
    "### Create Generator CNN"
   ]
  },
  {
   "cell_type": "markdown",
   "metadata": {},
   "source": [
    "We reshape into 7x7 because we will be doing two upsampling steps. Each step will double the size of the image and this the final image will be of 28x28.\n",
    "\n",
    "In the final Convolutional layer, we have number of filters as 1 since we are working with grayscale images."
   ]
  },
  {
   "cell_type": "code",
   "execution_count": 51,
   "metadata": {},
   "outputs": [
    {
     "name": "stdout",
     "output_type": "stream",
     "text": [
      "_________________________________________________________________\n",
      "Layer (type)                 Output Shape              Param #   \n",
      "=================================================================\n",
      "Input_G (InputLayer)         (None, 100)               0         \n",
      "_________________________________________________________________\n",
      "dense_4 (Dense)              (None, 25088)             2533888   \n",
      "_________________________________________________________________\n",
      "leaky_re_lu_6 (LeakyReLU)    (None, 25088)             0         \n",
      "_________________________________________________________________\n",
      "batch_normalization_3 (Batch (None, 25088)             100352    \n",
      "_________________________________________________________________\n",
      "reshape_2 (Reshape)          (None, 7, 7, 512)         0         \n",
      "_________________________________________________________________\n",
      "up_sampling2d_3 (UpSampling2 (None, 14, 14, 512)       0         \n",
      "_________________________________________________________________\n",
      "conv2d_5 (Conv2D)            (None, 14, 14, 64)        819264    \n",
      "_________________________________________________________________\n",
      "leaky_re_lu_7 (LeakyReLU)    (None, 14, 14, 64)        0         \n",
      "_________________________________________________________________\n",
      "batch_normalization_4 (Batch (None, 14, 14, 64)        256       \n",
      "_________________________________________________________________\n",
      "up_sampling2d_4 (UpSampling2 (None, 28, 28, 64)        0         \n",
      "_________________________________________________________________\n",
      "conv2d_6 (Conv2D)            (None, 28, 28, 1)         65        \n",
      "=================================================================\n",
      "Total params: 3,453,825\n",
      "Trainable params: 3,403,521\n",
      "Non-trainable params: 50,304\n",
      "_________________________________________________________________\n"
     ]
    }
   ],
   "source": [
    "inpG = Input(shape=(g_inp_dim,), name='Input_G')\n",
    "x = Dense(512*7*7) (inpG)\n",
    "x = LeakyReLU(0.2)(x)\n",
    "x = BatchNormalization()(x)\n",
    "x = Reshape((7,7,512))(x)\n",
    "x = UpSampling2D()(x)\n",
    "x = Convolution2D(filters=64, kernel_size=(5,5), padding='same')(x)\n",
    "x = LeakyReLU(0.2)(x)\n",
    "x = BatchNormalization()(x)\n",
    "x = UpSampling2D()(x)\n",
    "#x = Convolution2D(filters=32, kernel_size=(3,3), padding='same')(x)\n",
    "#x = LeakyReLU()(x)\n",
    "#x = BatchNormalization()(x)\n",
    "outG = Convolution2D(filters=1, kernel_size=(1,1), padding='same', activation='tanh')(x)\n",
    "\n",
    "CNN_G = Model(inputs=inpG, outputs=outG)\n",
    "CNN_G.summary()"
   ]
  },
  {
   "cell_type": "markdown",
   "metadata": {},
   "source": [
    "### Create Discriminator CNN"
   ]
  },
  {
   "cell_type": "code",
   "execution_count": 52,
   "metadata": {},
   "outputs": [
    {
     "name": "stdout",
     "output_type": "stream",
     "text": [
      "_________________________________________________________________\n",
      "Layer (type)                 Output Shape              Param #   \n",
      "=================================================================\n",
      "Input_D (InputLayer)         (None, 28, 28, 1)         0         \n",
      "_________________________________________________________________\n",
      "conv2d_7 (Conv2D)            (None, 14, 14, 256)       6656      \n",
      "_________________________________________________________________\n",
      "leaky_re_lu_8 (LeakyReLU)    (None, 14, 14, 256)       0         \n",
      "_________________________________________________________________\n",
      "conv2d_8 (Conv2D)            (None, 7, 7, 512)         3277312   \n",
      "_________________________________________________________________\n",
      "leaky_re_lu_9 (LeakyReLU)    (None, 7, 7, 512)         0         \n",
      "_________________________________________________________________\n",
      "flatten_2 (Flatten)          (None, 25088)             0         \n",
      "_________________________________________________________________\n",
      "dense_5 (Dense)              (None, 256)               6422784   \n",
      "_________________________________________________________________\n",
      "leaky_re_lu_10 (LeakyReLU)   (None, 256)               0         \n",
      "_________________________________________________________________\n",
      "dense_6 (Dense)              (None, 1)                 257       \n",
      "=================================================================\n",
      "Total params: 9,707,009\n",
      "Trainable params: 9,707,009\n",
      "Non-trainable params: 0\n",
      "_________________________________________________________________\n"
     ]
    }
   ],
   "source": [
    "inpD = Input(shape=(28,28,1), name='Input_D')\n",
    "x = Convolution2D(filters=256, kernel_size=(5,5), padding='same', strides=(2,2))(inpD)\n",
    "x = LeakyReLU(0.2)(x)\n",
    "x = Convolution2D(filters=512, kernel_size=(5,5), padding='same', strides=(2,2))(x)\n",
    "x = LeakyReLU(0.2)(x)\n",
    "x = Flatten()(x)\n",
    "x = Dense(256)(x)\n",
    "x = LeakyReLU()(x)\n",
    "outD = Dense(1, activation='sigmoid')(x)\n",
    "\n",
    "CNN_D = Model(inputs=inpD, outputs=outD)\n",
    "CNN_D.summary()"
   ]
  },
  {
   "cell_type": "code",
   "execution_count": 53,
   "metadata": {},
   "outputs": [],
   "source": [
    "CNN_D.compile(optimizer=Adam(), loss='binary_crossentropy')"
   ]
  },
  {
   "cell_type": "markdown",
   "metadata": {},
   "source": [
    "### DCGAN : Combined Generator and Discriminator "
   ]
  },
  {
   "cell_type": "markdown",
   "metadata": {},
   "source": [
    "Now the final model is when we feed an input to the generator, get its output which is then fed to the discriminator. \n",
    "\n",
    "**DCGAN = CNN_D ( CNN_G ( input) ) **\n"
   ]
  },
  {
   "cell_type": "code",
   "execution_count": 54,
   "metadata": {},
   "outputs": [
    {
     "name": "stdout",
     "output_type": "stream",
     "text": [
      "_________________________________________________________________\n",
      "Layer (type)                 Output Shape              Param #   \n",
      "=================================================================\n",
      "input_2 (InputLayer)         (None, 100)               0         \n",
      "_________________________________________________________________\n",
      "model_4 (Model)              (None, 28, 28, 1)         3453825   \n",
      "_________________________________________________________________\n",
      "model_5 (Model)              (None, 1)                 9707009   \n",
      "=================================================================\n",
      "Total params: 13,160,834\n",
      "Trainable params: 13,110,530\n",
      "Non-trainable params: 50,304\n",
      "_________________________________________________________________\n"
     ]
    }
   ],
   "source": [
    "dcgan_input = Input(shape=(g_inp_dim,))\n",
    "x = CNN_G(dcgan_input)\n",
    "dcgan_output = CNN_D(x)\n",
    "\n",
    "dcgan_model = Model(inputs=dcgan_input, outputs=dcgan_output)\n",
    "dcgan_model.summary()\n",
    "dcgan_model.compile(optimizer=Adam(), loss='binary_crossentropy')"
   ]
  },
  {
   "cell_type": "markdown",
   "metadata": {},
   "source": [
    "In this case, we will initially be training the discriminator on a few batches so that it can learn to identify real images from fake ones."
   ]
  },
  {
   "cell_type": "code",
   "execution_count": 55,
   "metadata": {},
   "outputs": [],
   "source": [
    "X_sub, y_sub = get_data_for_D(n_samples=n//200, G=CNN_G)"
   ]
  },
  {
   "cell_type": "code",
   "execution_count": 56,
   "metadata": {},
   "outputs": [
    {
     "name": "stdout",
     "output_type": "stream",
     "text": [
      "Epoch 1/1\n",
      " - 1s - loss: 0.3610\n"
     ]
    },
    {
     "data": {
      "text/plain": [
       "<keras.callbacks.History at 0x7f05c62772e8>"
      ]
     },
     "execution_count": 56,
     "metadata": {},
     "output_type": "execute_result"
    }
   ],
   "source": [
    "CNN_D.fit(X_sub, y_sub, batch_size=batch_size, epochs=1, verbose = 2)"
   ]
  },
  {
   "cell_type": "code",
   "execution_count": 57,
   "metadata": {},
   "outputs": [
    {
     "name": "stderr",
     "output_type": "stream",
     "text": [
      "  0%|          | 0/200 [00:00<?, ?it/s]/home/kshitijg1992/miniconda3/envs/carnd-term1/lib/python3.5/site-packages/keras/engine/training.py:973: UserWarning: Discrepancy between trainable weights and collected trainable weights, did you set `model.trainable` without calling `model.compile` after ?\n",
      "  'Discrepancy between trainable weights and collected trainable'\n",
      "100%|██████████| 200/200 [01:01<00:00,  3.33it/s]\n"
     ]
    }
   ],
   "source": [
    "dl,gl = train(CNN_D,CNN_G, dcgan_model, epochs=200)"
   ]
  },
  {
   "cell_type": "code",
   "execution_count": 58,
   "metadata": {},
   "outputs": [
    {
     "data": {
      "text/plain": [
       "[<matplotlib.lines.Line2D at 0x7f05d8773fd0>]"
      ]
     },
     "execution_count": 58,
     "metadata": {},
     "output_type": "execute_result"
    },
    {
     "data": {
      "image/png": "[encoded data removed]",
      "text/plain": [
       "<matplotlib.figure.Figure at 0x7f05c6411cf8>"
      ]
     },
     "metadata": {},
     "output_type": "display_data"
    }
   ],
   "source": [
    "plt.plot(dl[:10])"
   ]
  },
  {
   "cell_type": "code",
   "execution_count": 59,
   "metadata": {},
   "outputs": [
    {
     "data": {
      "text/plain": [
       "[<matplotlib.lines.Line2D at 0x7f05d90bab38>]"
      ]
     },
     "execution_count": 59,
     "metadata": {},
     "output_type": "execute_result"
    },
    {
     "data": {
      "image/png": "[encoded data removed]",
      "text/plain": [
       "<matplotlib.figure.Figure at 0x7f05c64c4da0>"
      ]
     },
     "metadata": {},
     "output_type": "display_data"
    }
   ],
   "source": [
    "plt.plot(gl[:10])"
   ]
  },
  {
   "cell_type": "code",
   "execution_count": 60,
   "metadata": {},
   "outputs": [
    {
     "data": {
      "image/png": "[encoded data removed]",
      "text/plain": [
       "<matplotlib.figure.Figure at 0x7f05c5e33940>"
      ]
     },
     "metadata": {},
     "output_type": "display_data"
    }
   ],
   "source": [
    "plot(CNN_G.predict(get_noise_for_G(16)).reshape(16, 28,28),4)"
   ]
  },
  {
   "cell_type": "code",
   "execution_count": null,
   "metadata": {},
   "outputs": [],
   "source": []
  }
 ],
 "metadata": {
  "kernelspec": {
   "display_name": "Python 3",
   "language": "python",
   "name": "python3"
  },
  "language_info": {
   "codemirror_mode": {
    "name": "ipython",
    "version": 3
   },
   "file_extension": ".py",
   "mimetype": "text/x-python",
   "name": "python",
   "nbconvert_exporter": "python",
   "pygments_lexer": "ipython3",
   "version": "3.5.2"
  },
  "toc": {
   "nav_menu": {},
   "number_sections": true,
   "sideBar": true,
   "skip_h1_title": false,
   "toc_cell": false,
   "toc_position": {},
   "toc_section_display": "block",
   "toc_window_display": false
  },
  "widgets": {
   "state": {},
   "version": "1.1.2"
  }
 },
 "nbformat": 4,
 "nbformat_minor": 2
}
